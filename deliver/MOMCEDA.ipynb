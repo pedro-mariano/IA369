{
 "cells": [
  {
   "cell_type": "markdown",
   "metadata": {},
   "source": [
    "# Otimização Multiobjetivo com Estimação de Distribuição guiada por Tomada de Decisão Multicritério\n",
    "\n",
    "Pedro M. Sousa Bezerra\n",
    "\n",
    "## *Abstract*\n",
    "\n",
    "*Considering the state-of-the-art meta-heuristics for multi-objective optimization, only one preference criterion at a time is considered to properly rank candidate solutions along the search process. Here, some of the preference criteria adopted by those algorithms are taken together as inputs to a multi-criteria decision making (MCDM) strategy, responsible for sorting all candidate solutions. New candidate solutions are then generated from this sorted list using a Gaussian mixture model. We used NSGA-II and NSGA-III methods as basis for our proposal, denoted by MOMCEDA (Multi-Objective Multi-Criteria Estimation of Distribution Algorithm). Distinc- tive aspects of the algorithm are the ranking of candidate solutions and the generation of new individuals. The results on ZDT benchmarks show that our method is competitive with other well-established meta-heuristics for multi-objective optimization.*\n",
    "\n",
    "*Index terms: Multiobjective optimization, multicriteria decision making, estimation of distribution.*\n",
    "\n",
    "## Introdução \n",
    "\n",
    "Problemas envolvendo a otimização simultânea de múltiplos objetivos ganham cada vez mais evidência com o avanço tecnológico. Há um aumento de interesse por formulações matemáticas voltadas para problemas de otimização multiobjetivo e de tomada de decisão multicritério, os quais possuem frentes de pesquisa bem consolidadas e com as seguintes estratégias: \n",
    "\n",
    "1. Otimização  multiobjetivo  (do  inglês *Multi-Objective Optimization* – MOO) (Branke et al., 2008): busca amostrar a fronteira de Pareto, composta por soluções eficientes do problema e que apresentam diferentes compromissos entre os objetivos, permitindo que a preferência do tomador de decisão seja definida e aplicada a posteriori. \n",
    "\n",
    "2. Tomada de decisão multicritério (do inglês *Multicriteria Decision Making* – MCDM) (Köksalan et al., 2011; Steuer, 1986): busca explorar a preferência a priori do tomador de decisão, de modo a ordenar por mérito as múltiplas alternativas de soluções eficientes existentes. \n",
    "\n",
    "Dentre as técnicas já propostas para resolver problemas MOO, destacam-se as metaheurísticas de otimização, em especial as que recorrem a estratégias de busca populacional (Coello Coello et al., 2007). Essas metaheurísticas centram seus esforços na descoberta de novas soluções candidatas que sejam diversas entre si e não-dominadas pelas demais soluções candidatas já descobertas, num processo iterativo. Nesta busca iterativa por se aproximar cada vez mais de soluções pertencentes à fronteira de Pareto, e dadas limitações de memória e processamento que inviabilizam a manutenção de todas as soluções candidatas já descobertas, muitas propostas já foram feitas na literatura para se definir que soluções candidatas já descobertas devem ser descartadas e quais devem ser usadas como ponto de partida para a descoberta de novas soluções. Como as metaheurísticas para MOO recorrem a muitos processos de tomada de decisão durante a busca populacional, a ideia aqui proposta consiste em utilizar técnicas de MCDM para ordenar por mérito as soluções não-dominadas correspondentes no espaço dos objetivos, com o intuito de obter novas soluções a partir daquelas que se mostram mais promissoras. Soluções não-dominadas entre si geralmente são tomadas na literatura como tendo a mesma relevância na definição da próxima população de soluções candidatas (Deb et al., 2002). Espera-se, com isso, chegar a técnicas de solução para MOO capazes de explorar ainda mais eficazmente os recursos computacionais dispo- níveis, além de potencialmente conduzir a soluções de melhor qualidade.\n",
    "\n",
    "Visto que é razoável supor que as soluções candidatas melhor classificadas estão localizadas nas regiões mais promissoras do espaço de busca, a lista ordenada de soluções candidatas pode ser explorada para conceber um modelo de estimação de distribuição (Hauschild & Pelikan, 2011). Neste trabalho, recorremos a um modelo de mistura de gaussianas, onde o centro de cada gaussiana está posicionado em uma solução candidata e os coeficientes de ponderação das gaussianas são não-negativos, com soma igual a um. O coeficiente de cada gaussiana é proporcional à qualidade relativa da correspondente solução candidata, de modo que soluções de alta qualidade irão contribuir mais para a função densidade de probabilidade. O desvio padrão de cada gaussiana depende de uma distância calculada par-a-par, a ser detalhada posteriormente."
   ]
  },
  {
   "cell_type": "markdown",
   "metadata": {},
   "source": [
    "## Metodologia\n",
    "\n",
    "A estratégia da técnica inspira-se em algoritmos estado-da-arte em MOO, NSGA-II (Deb et al., 2002) e NSGA-III (Deb & Jain, 2013) - do inglês *Non-dominated Sorting Genetic Algorithm*. Estas metaheurísticas populacionais realizam, a cada geração, uma ordenação por não-dominância dos indivíduos.  Os indivíduos são separados em classes de dominância, e aqueles pertencentes às classes superiores são selecionados para integrar a população da próxima geração. Para comparar soluções candidatas pertencentes à mesma classe, utiliza-se uma medida que indica qual solução deve ser escolhida para melhorar a diversidade das soluções. No entanto, apenas um cirtério por vez é utilizado para classificar soluções candidatas.  Neste trabalho, propomos adotar uma conhecida técnica de tomada de decisão multicritério, o algoritmo TOPSIS (do inglês *Technique for Order of Preference by Similarity to Ideal Solution*) (Hwang & Yoon, 1981), para classificar soluções candidatas dentro de uma mesma classe de dominância segundo múltiplos critérios estabelecidos por um tomador de decisão, como proximidade a valores de referência e a própria promoção de diversidade da população. As preferências do usuário são inspiradas em políticas de decisão já propostas por algoritmos estado-da-arte. A amostragem de novas soluções candidatas é implementada por uma mistura de gaussianas (Larrañaga & Lozano, 2001), de modo que regiões do espaço de busca que contenham soluções de alta qualidade sejam exploradas de maneira mais intensa.\n",
    "\n",
    "O algoritmo aqui proposto é denominado MOMCEDA (*Multi-Objective Multi-Criteria Estimation of Distribution Algorithm*) (Sousa Bezerra, 2018). Sua estrutura principal, apresentada no Algoritmo 1, é inspirada no algoritmo genético proposto no NSGA-II e NSGA-III. A cada geração $t$, a população de soluções candidatas $P_t$ e seus descendentes $Q_t$, ambas de tamanho $N$ e inicializadas aleatoriamente, são combinadas em uma população $R_t$ e ordenados por dominância, obtendo uma lista $\\mathcal{F}$ de classes de dominância. Os critérios são então avaliados e uma lista ordenada $\\mathcal{L}$ dos indivíduos é obtida pelo algoritmo TOPSIS. Os melhores indivíduos de $R_t$ são extraídos e adicionados um a um à população da geração seguinte $P_{t+1}$. Após uma nova ordenação pelo TOPSIS, o modelo de distribuição $\\mathcal{M}$ é construído e utilizado para gerar a nova população de descendentes $Q_{t+1}$. O processo se repete até atingir um critério de parada. \n",
    "\n",
    "Os critérios que adotamos para classificação de indivíduos foram:\n",
    "- Classe de dominância, obtida pela ordenação por dominância como feita no NSGA-II/NSGA-III;\n",
    "- Tamanho da vizinhança da direção de referência associada a um indivíduo, como no NSGA-III;\n",
    "- Distância entre o indivíduo e a direção de referência associada a ele, como no NSGA-III;\n",
    "- Contribuição exclusiva do indivíduo para a métrica de hipervolume.\n",
    "\n",
    "**Algoritmo 1: MOMCEDA** <br>\n",
    "**Resultado**: Indivíduos não-dominados de $P_t$<br>\n",
    "$t = 1$<br>\n",
    "$P_t,Q_t = \\text{inicializa-populacao}(N)$<br>\n",
    "*Enquanto o critério de parada não for atendido, faça:*<br>\n",
    "$\\quad R_t = P_t \\cup Q_t$<br>\n",
    "$\\quad \\mathcal{F} = \\text{fast-non-dominated-sort}(R_t)$<br>\n",
    "$\\quad P_{t+1} = \\emptyset$<br>\n",
    "$\\quad$*Enquanto* $ |P_{t+1}| \\leq N$, *faça:*<br>\n",
    "$\\quad \\quad \\text{avalia-critérios} (R_t)$<br>\n",
    "$\\quad \\quad \\mathcal{L} = \\text{TOPSIS}(R_t,\\mathcal{F})$<br>\n",
    "$\\quad \\quad P_{t+1} = P_{t+1} \\cup \\mathcal{L}[1]$<br>\n",
    "$\\quad \\quad R_t = R_t \\backslash (\\mathcal{L}[1])$<br>\n",
    "$\\quad \\mathcal{L'} = \\text{TOPSIS}(P_{t+1})$<br>\n",
    "$\\quad \\mathcal{M} = \\text{gera-modelo}(P_{t+1}, \\mathcal{L'})$<br>\n",
    "$\\quad Q_{t+1} = \\text{gera-descendentes}(P_{t+1},\\mathcal{M}) $<br>\n",
    "$\\quad t = t+1$<br>\n",
    "\n",
    "A métrica de hipervolume é comumente utilizada para comparar o desempenho de diferentes algoritmos de otimização multiobjetivo (Zitzler & Thiele, 1998). Esta métrica mede o \"tamanho\" do espaço dominado pela população final do algoritmo com relação a um ponto de referência; em duas dimensões, como é o caso dos problemas-teste aqui utilizados, esta métrica corresponde a uma área. Assim, quanto maior o valor do hipervolume, melhor a solução obtida pelo algoritmo. A contribuição exclusiva que um indivíduo traz para este indicador representa a porção do espaço que é dominada apenas por ele."
   ]
  },
  {
   "cell_type": "markdown",
   "metadata": {},
   "source": [
    "## Workflow\n",
    "\n",
    "O workflow do método aqui proposto está representado na figura a seguir. O usuário fornece as funções objetivo que deseja otimizar, bem como as suas preferências que serão utilizadas para classificar soluções candidatas. Além disso, no caso de problemas-teste, a Fronteira de Pareto, que contém as soluções não dominadas do problema, é conhecida e uma amostra de seus pontos também é fornecida para o cálculo de métricas de avaliação do algoritmo. O algoritmo itera sobre uma população de soluções candidatas, cujos indivíduos não-dominados correspondem à saída ao final da execução. Esses indivíduos são utilizados para o cálculo de métricas de avaliação.\n",
    "\n",
    "<img src=\"../figures/MOMCEDA-workflow.png\">"
   ]
  },
  {
   "cell_type": "markdown",
   "metadata": {},
   "source": [
    "## Visualização dos problemas-teste\n",
    "\n",
    "Esta seção apresenta o conjunto de problemas-teste que serão utilizados para testar o método de otimização multiobjetivo."
   ]
  },
  {
   "cell_type": "markdown",
   "metadata": {},
   "source": [
    "### Problemas ZDT\n",
    "\n",
    "A classe de problemas-teste ZDT (Zitzler et al., 2000) apresenta 5 problemas (de ZDT1 a ZDT4 e ZDT6) com duas funções objetivo a serem otimizadas. As fronteiras de Pareto dos problemas desta classe apresentam diferentes características: convexas, não-convexas, desconexas e não-uniformemente distribuídas. Os problemas possuem a seguinte formulação: \n",
    "\n",
    "$$\n",
    "\\min\n",
    "\\begin{cases}\n",
    "f_1(\\mathbf{x})\\\\\n",
    "f_2(\\mathbf{x}) = g(\\mathbf{x}) \\cdot h(f_1(\\mathbf{x}),g(\\mathbf{x}))\n",
    "\\end{cases}\n",
    "$$\n",
    "\n",
    "onde $\\mathbf{x}$ é o vetor de variáveis de decisão de uma solução candidata, $f_1(\\mathbf{x}), f_2(\\mathbf{x})$ são as funções objetivo do problema a serem otimizadas, e $g(\\mathbf{x}), h(\\mathbf{x})$ são funções auxiliares. O número de variáveis de decisão e as funções variam entre os 5 problemas da classe. A fronteira de Pareto é representada por uma curva no espaço dos objetivos cujos pontos correspondem aos valores de $f_1(\\mathbf{x})$ e $f_2(\\mathbf{x})$ que constituem as soluções não dominadas do problema de otimização multiobjetivo. No caso dos problemas ZDT, esta curva é dada pelos valores de $\\mathbf{x}$ tais que $g(\\mathbf{x}) = 1$."
   ]
  },
  {
   "cell_type": "markdown",
   "metadata": {},
   "source": [
    "O trecho de código a seguir apresenta uma função que salva em um arquivo na pasta *Pareto* um conjunto de $N$ amostras da froteira de Pareto do problema *function*."
   ]
  },
  {
   "cell_type": "code",
   "execution_count": 1,
   "metadata": {},
   "outputs": [],
   "source": [
    "import numpy as np\n",
    "import matplotlib.pyplot as plt\n",
    "import json\n",
    "\n",
    "%matplotlib inline\n",
    "\n",
    "def generateZDTPareto(function,N):\n",
    "\n",
    "    optimal_front = np.zeros((N,2));\n",
    "\n",
    "    f1 = np.linspace(0,1.0,N)\n",
    "\n",
    "    if(function == 'ZDT1' or function == 'ZDT4'):\n",
    "\n",
    "        f2 = 1 - np.sqrt(f1)\n",
    "\n",
    "    elif(function == 'ZDT2' or function == 'ZDT6'):\n",
    "\n",
    "        if(function == 'ZDT6'):\n",
    "\n",
    "            f1 = np.linspace(0.2807753191,1.0,N)\n",
    "\n",
    "        f2 = 1 - f1**2\n",
    "\n",
    "    elif(function == 'ZDT3'):\n",
    "        f1[:N/5] = np.linspace(0,0.0830015349,N/5)\n",
    "        f1[N/5:2*N/5] = np.linspace(0.1822287280,0.2577623634,N/5)\n",
    "        f1[2*N/5:3*N/5] = np.linspace(0.4093136748,0.4538821041,N/5)\n",
    "        f1[3*N/5:4*N/5] = np.linspace(0.6183967944,0.6525117038,N/5)\n",
    "        f1[4*N/5:] = np.linspace(0.8233317983,0.8518328654,N/5)\n",
    "\n",
    "        f2 = 1 - np.sqrt(f1) -f1*np.sin(10*np.pi*f1)\n",
    "\n",
    "\n",
    "    optimal_front[:,0] = f1\n",
    "    optimal_front[:,1] = f2\n",
    "\n",
    "    optimal_front = optimal_front.tolist()\n",
    "    \n",
    "    with open(''.join(['../data/Prt_',function,'.json']),'w') as outfile:\n",
    "        json.dump(optimal_front,outfile)"
   ]
  },
  {
   "cell_type": "markdown",
   "metadata": {},
   "source": [
    "A função a seguir gera uma figura com a representação gráfica da fronteira de Pareto do problema *function*, fazendo uso do conjunto de amostras que foi gerado e salvo em um arquivo previamente."
   ]
  },
  {
   "cell_type": "code",
   "execution_count": 2,
   "metadata": {},
   "outputs": [],
   "source": [
    "def plot_2dfunction(function):\n",
    "    #with open(''.join(['Pareto/Prt_',function,'.pk1']), 'r') as filename:\n",
    "        #f = pickle.load(filename)\n",
    "     \n",
    "    with open(''.join(['../data/Prt_',function,'.json'])) as optimal_front_data:\n",
    "        f = np.array(json.load(optimal_front_data))\n",
    "    if(function == 'ZDT3'):\n",
    "        N = f.shape[0]\n",
    "        plt.plot(f[:N/5,0],f[:N/5,1],color='b')\n",
    "        plt.plot(f[N/5:2*N/5,0],f[N/5:2*N/5,1],color='b')\n",
    "        plt.plot(f[2*N/5:3*N/5,0],f[2*N/5:3*N/5,1],color='b')\n",
    "        plt.plot(f[3*N/5:4*N/5,0],f[3*N/5:4*N/5,1],color='b')\n",
    "        plt.plot(f[4*N/5:,0],f[4*N/5:,1],color='b')\n",
    "    else:\n",
    "        plt.plot(f[:,0],f[:,1],color='b')\n",
    "    plt.xlabel('f1')\n",
    "    plt.ylabel('f2')\n",
    "    plt.show()"
   ]
  },
  {
   "cell_type": "markdown",
   "metadata": {},
   "source": [
    "#### ZDT1\n",
    "\n",
    "O problema ZDT1 possui $n=30$ variáveis definidas no domínio $\\mathbf{x}_i \\in [0;1], i=1,...,n$ e apresenta fronteira de Pareto contínua, convexa e uniformemente distribuída. Suas funções estão definidas a seguir:\n",
    "\n",
    "$$ \n",
    "\\begin{cases}\n",
    "f_1(\\mathbf{x}) = \\mathbf{x}_1\\\\\n",
    "g(\\mathbf{x}) = 1 + \\frac{9}{n-1} \\sum \\limits_{i=2}^{n} \\mathbf{x}_i\\\\\n",
    "h(f_1(\\mathbf{x}),g(\\mathbf{x})) = 1 - \\sqrt[]{\\frac{f_1(\\mathbf{x})}{g(\\mathbf{x})}}\n",
    "\\end{cases}\n",
    "$$\n",
    "\n",
    "A fronteira de Pareto do problema pode ser vista na figura abaixo."
   ]
  },
  {
   "cell_type": "code",
   "execution_count": 3,
   "metadata": {},
   "outputs": [
    {
     "data": {
      "image/png": "[encoded data removed]",
      "text/plain": [
       "<Figure size 432x288 with 1 Axes>"
      ]
     },
     "metadata": {
      "needs_background": "light"
     },
     "output_type": "display_data"
    }
   ],
   "source": [
    "function = 'ZDT1'\n",
    "N = 1000\n",
    "generateZDTPareto(function,N)\n",
    "plot_2dfunction(function)"
   ]
  },
  {
   "cell_type": "markdown",
   "metadata": {},
   "source": [
    "#### ZDT2\n",
    "\n",
    "O problema ZDT2 possui $n=30$ variáveis definidas no domínio $\\mathbf{x}_i \\in [0;1], i=1,...,n$ e apresenta fronteira de Pareto contínua, não-convexa e uniformemente distribuída. Suas funções estão definidas a seguir:\n",
    "\n",
    "$$ \n",
    "\\begin{cases}\n",
    "f_1(\\mathbf{x}) = \\mathbf{x}_1\\\\\n",
    "g(\\mathbf{x}) = 1 + \\frac{9}{n-1} \\sum \\limits_{i=2}^{n} \\mathbf{x}_i\\\\\n",
    "h(f_1(\\mathbf{x}),g(\\mathbf{x})) = 1 - \\left(\\frac{f_1(\\mathbf{x})}{g(\\mathbf{x})}\\right)^2\n",
    "\\end{cases}\n",
    "$$\n",
    "\n",
    "A fronteira de Pareto do problema pode ser vista na figura abaixo."
   ]
  },
  {
   "cell_type": "code",
   "execution_count": 4,
   "metadata": {},
   "outputs": [
    {
     "data": {
      "image/png": "[encoded data removed]",
      "text/plain": [
       "<Figure size 432x288 with 1 Axes>"
      ]
     },
     "metadata": {
      "needs_background": "light"
     },
     "output_type": "display_data"
    }
   ],
   "source": [
    "function = 'ZDT2'\n",
    "N = 1000\n",
    "generateZDTPareto(function,N)\n",
    "plot_2dfunction(function)"
   ]
  },
  {
   "cell_type": "markdown",
   "metadata": {},
   "source": [
    "#### ZDT3\n",
    "\n",
    "O problema ZDT3 possui $n=30$ variáveis definidas no domínio $\\mathbf{x}_i \\in [0;1], i=1,...,n$ e apresenta fronteira de Pareto não-contínua. Suas funções estão definidas a seguir:\n",
    "\n",
    "$$ \n",
    "\\begin{cases}\n",
    "f_1(\\mathbf{x}) = \\mathbf{x}_1\\\\\n",
    "g(\\mathbf{x}) = 1 + \\frac{9}{n-1} \\sum \\limits_{i=2}^{n} \\mathbf{x}_i\\\\\n",
    "h(f_1(\\mathbf{x}),g(\\mathbf{x})) = 1 - \\sqrt[]{\\frac{f_1(\\mathbf{x})}{g(\\mathbf{x})}} - \\left(\\frac{f_1(\\mathbf{x})}{g(\\mathbf{x})}\\right) \\cdot \\sin (10 \\cdot \\pi \\cdot f_1(\\mathbf{x}))\n",
    "\\end{cases}\n",
    "$$\n",
    "\n",
    "A fronteira de Pareto do problema pode ser vista na figura abaixo."
   ]
  },
  {
   "cell_type": "code",
   "execution_count": 4,
   "metadata": {},
   "outputs": [
    {
     "data": {
      "image/png": "[encoded data removed]",
      "text/plain": [
       "<Figure size 432x288 with 1 Axes>"
      ]
     },
     "metadata": {
      "needs_background": "light"
     },
     "output_type": "display_data"
    }
   ],
   "source": [
    "function = 'ZDT3'\n",
    "N = 1000\n",
    "generateZDTPareto(function,N)\n",
    "plot_2dfunction(function)"
   ]
  },
  {
   "cell_type": "markdown",
   "metadata": {},
   "source": [
    "#### ZDT4\n",
    "\n",
    "O problema ZDT4 possui $n=10$ variáveis definidas no domínio  $\\mathbf{x}_1 \\in [0;1]$ e $\\mathbf{x}_i \\in [-5;5], i=2,...,n$ e apresenta fronteira de Pareto contínua e convexa. O problema apresenta diversas soluções Pareto-ótimas locais, que podem dificultar a aproximação da fronteira de Pareto real. Suas funções estão definidas a seguir:\n",
    "\n",
    "$$ \n",
    "\\begin{cases}\n",
    "f_1(\\mathbf{x}) = \\mathbf{x}_1\\\\\n",
    "g(\\mathbf{x}) = 1 + 10(n-1) + \\sum \\limits_{i=2}^{n} [\\mathbf{x}_i^2 - 10 \\cdot \\cos (4 \\cdot \\pi \\cdot \\mathbf{x}_i)]\\\\\n",
    "h(f_1(\\mathbf{x}),g(\\mathbf{x})) = 1 - \\sqrt[]{\\frac{f_1(\\mathbf{x})}{g(\\mathbf{x})}}\n",
    "\\end{cases}\n",
    "$$\n",
    "\n",
    "A fronteira de Pareto do problema pode ser vista na figura abaixo."
   ]
  },
  {
   "cell_type": "code",
   "execution_count": 6,
   "metadata": {},
   "outputs": [
    {
     "data": {
      "image/png": "[encoded data removed]",
      "text/plain": [
       "<Figure size 432x288 with 1 Axes>"
      ]
     },
     "metadata": {
      "needs_background": "light"
     },
     "output_type": "display_data"
    }
   ],
   "source": [
    "function = 'ZDT4'\n",
    "N = 1000\n",
    "generateZDTPareto(function,N)\n",
    "plot_2dfunction(function)"
   ]
  },
  {
   "cell_type": "markdown",
   "metadata": {},
   "source": [
    "#### ZDT6\n",
    "\n",
    "O problema ZDT6 possui $n=10$ variáveis definidas no domínio $\\mathbf{x}_i \\in [0;1], i=1,...,n$ e apresenta fronteira de Pareto contínua, não-convexa e não uniformemente distribuída. Suas funções estão definidas a seguir:\n",
    "\n",
    "$$ \n",
    "\\begin{cases}\n",
    "f_1(\\mathbf{x}) = 1 - \\exp (-4\\mathbf{x}_1) \\cdot \\sin ^6 (6 \\cdot \\pi \\cdot \\mathbf{x}_1) \\\\\n",
    "g(\\mathbf{x}) = 1 + 9 \\cdot \\left(\\frac{\\sum \\limits_{i=2}^{n} \\mathbf{x}_i}{9}\\right)^{0.25} \\\\\n",
    "h(f_1(\\mathbf{x}),g(\\mathbf{x})) = 1 - \\left(\\frac{f_1(\\mathbf{x})}{g(\\mathbf{x})}\\right)^2\n",
    "\\end{cases}\n",
    "$$\n",
    "\n",
    "A fronteira de Pareto do problema pode ser vista na figura abaixo."
   ]
  },
  {
   "cell_type": "code",
   "execution_count": 7,
   "metadata": {},
   "outputs": [
    {
     "data": {
      "image/png": "[encoded data removed]",
      "text/plain": [
       "<Figure size 432x288 with 1 Axes>"
      ]
     },
     "metadata": {
      "needs_background": "light"
     },
     "output_type": "display_data"
    }
   ],
   "source": [
    "function = 'ZDT6'\n",
    "N = 1000\n",
    "generateZDTPareto(function,N)\n",
    "plot_2dfunction(function)"
   ]
  },
  {
   "cell_type": "markdown",
   "metadata": {},
   "source": [
    "## Experimentos computacionais\n",
    "\n",
    "Nesta seção apresentaremos os resultados dos experimentos computacionais.\n",
    "\n",
    "### Teste preliminar\n",
    "\n",
    "Primeiramente, um teste preliminar é realizado com o problema ZDT1 para visualizar a evolução da população de soluções não-dominadas no espaço dos objetivos ao longo das gerações. Ao final da execução do algoritmo, uma figura exibe os pontos no espaço dos objetivos que representam as soluções não-dominadas da população, com cores diferentes para cada geração. As cores mais escuras correspondem às gerações mais recentes. A Fronteira de Pareto do problema também é exibida. \n",
    "\n",
    "Duas métricas são computadas para avaliar o desempenho do algoritmo: hipervolume e convergência. Aqui, adotamos o ponto de referência com as coordenadas $(1{,}1;1{,}1)$ para o cálculo do hipervolume. A medida de convergência mede a distância média, no espaço dos objetivos, entre as soluções obtidas pelo algoritmo e um conjunto de 1000 amostras equi-espaçadas da fronteira de Pareto. Logo, quanto menor o valor desta métrica, melhor a solução obtida.\n",
    "\n",
    "O conjunto de parâmetros adotado é apresentado no trecho de código a seguir. Como a população inicial é gerada de forma aleatória, registramos o valor da semente utilizada, que é igual a 1. Trabalhamos com uma população de tamanho 100, e com o mesmo número de pontos de referência. O critério de parada do algoritmo é o número de avaliações das funções objetivo: 5000. O número de pontos de referência que definem as vizinhanças no espaço de objetivos é igual ao tamanho da população. O vetor $\\mathbf{w}$ apresenta a importância relativa dos critérios utilizados para classificação dos indíviduos, na mesma ordem em que foram definidos na seção em que apresentamos o método. Quanto maior o valor atribuído para um dado critério, maior será a importância atribuída a ela na classificação dos indivíduos. Aqui, o critério de maior importância é a classe de dominância. Estes valores foram ajustados ao longo de diversos testes de forma a maximizar a métrica de hipervolume. "
   ]
  },
  {
   "cell_type": "code",
   "execution_count": 1,
   "metadata": {},
   "outputs": [
    {
     "name": "stdout",
     "output_type": "stream",
     "text": [
      "Running MOMCEDA\n",
      "\n",
      "Starting execution 1 ...\n",
      "Hypervolume =  0.8527722047591677\n",
      "Convergence metric =  0.0127404749939\n",
      "Execution  1  completed in  27.0506801605  seconds \n",
      "\n"
     ]
    },
    {
     "data": {
      "image/png": "[encoded data removed]",
      "text/plain": [
       "<Figure size 864x864 with 1 Axes>"
      ]
     },
     "metadata": {
      "needs_background": "light"
     },
     "output_type": "display_data"
    },
    {
     "name": "stdout",
     "output_type": "stream",
     "text": [
      "Average hypervolume= 0.8527722047591677\n",
      "Best hypervolume= 0.8527722047591677\n",
      "\n",
      "MOMCEDA finished all experiments\n",
      "\n"
     ]
    }
   ],
   "source": [
    "%run ../dev/MOMCEDA/MOMCEDA.py\n",
    "%matplotlib inline\n",
    "\n",
    "# Parameter settings\n",
    "\n",
    "seed = 1 # Random seed\n",
    "NPop = 100 # Population size\n",
    "NEval = 5000 # Number of function evaluations\n",
    "Nref = NPop # Number of reference points\n",
    "nReps = 1 # Number of repetitions\n",
    "RTPlot = True # Activate interactive plots\n",
    "refPoint = [1.1,1.1] # Reference point for hypervolume indicator\n",
    "w = np.array([10.0,5.0,3.0,1.0]) # Array of weights used for TOPSIS \n",
    "\n",
    "# Test-problem selection\n",
    "\n",
    "function = 'ZDT1' # Type of problem\n",
    "\n",
    "runMOMCEDA(NPop,NEval,function,Nref,nReps,RTPlot,refPoint,w,seed)"
   ]
  },
  {
   "cell_type": "markdown",
   "metadata": {},
   "source": [
    "Observamos na figura anterior que os pontos mais claros, que representam os estágios iniciais da população, estão mais distantes da Fronteira de Pareto, representada pela curva em azul, do que os pontos mais escuros, que representam os estágios finais da população, o que é um comportamento esperado. Algumas porções da Fronteira de Pareto não possuem representantes da população próximos, o que significa que o algoritmo poderia ter sido executado por mais tempo para obter um resultado melhor."
   ]
  },
  {
   "cell_type": "markdown",
   "metadata": {},
   "source": [
    "### Testes definitivos\n",
    "\n",
    "Para avaliar o desempenho do método proposto, são realizadas 10 execuções para cada problema com 20000 avaliações da função objetivo. O algoritmo NSGA-II também é executado para comparação de resultados. Para reduzir o tempo de execução, a população não será mais exibida. Os experimentos foram realizados em uma máquina com as seguintes configurações: \n",
    "\n",
    "Sistema Operacional: Ubuntu 16.04 LTS <br>\n",
    "Processador: Intel® Core™ i7-4720HQ CPU @ 2.60GHz × 8 <br>\n",
    "Memória RAM: 16GB <br>\n",
    "\n",
    "O tempo médio para cada execução do MOMCEDA foi cerca de 100 segundos, e o tempo total médio para cada problema-teste foi aproximadamente 17 minutos. Para o NSGA-II, o tempo médio para cada execução foi cerca de 7 segundos, e o tempo total médio para cada problema-teste foi aproximadamente 1m10s.\n",
    "\n",
    "#### ZDT1"
   ]
  },
  {
   "cell_type": "code",
   "execution_count": 9,
   "metadata": {},
   "outputs": [
    {
     "name": "stdout",
     "output_type": "stream",
     "text": [
      "Running NSGA-II\n",
      "\n",
      "Starting execution 1 ...\n",
      "Hypervolume =  0.868207904766\n",
      "Convergence metric =  0.00226638460607\n",
      "Execution 1  completed in  6.649284 seconds\n",
      "\n",
      "Starting execution 2 ...\n",
      "Hypervolume =  0.868786215886\n",
      "Convergence metric =  0.00186117309566\n",
      "Execution 2  completed in  6.618245 seconds\n",
      "\n",
      "Starting execution 3 ...\n",
      "Hypervolume =  0.868178617322\n",
      "Convergence metric =  0.00220445295574\n",
      "Execution 3  completed in  6.625959 seconds\n",
      "\n",
      "Starting execution 4 ...\n",
      "Hypervolume =  0.867678181961\n",
      "Convergence metric =  0.00225764958948\n",
      "Execution 4  completed in  6.468627 seconds\n",
      "\n",
      "Starting execution 5 ...\n",
      "Hypervolume =  0.868489012114\n",
      "Convergence metric =  0.00202651646075\n",
      "Execution 5  completed in  6.456798 seconds\n",
      "\n",
      "Starting execution 6 ...\n",
      "Hypervolume =  0.867443786596\n",
      "Convergence metric =  0.00239003363015\n",
      "Execution 6  completed in  6.463733 seconds\n",
      "\n",
      "Starting execution 7 ...\n",
      "Hypervolume =  0.86870575309\n",
      "Convergence metric =  0.00175188926913\n",
      "Execution 7  completed in  6.451054 seconds\n",
      "\n",
      "Starting execution 8 ...\n",
      "Hypervolume =  0.869213811705\n",
      "Convergence metric =  0.00172538721255\n",
      "Execution 8  completed in  6.431568 seconds\n",
      "\n",
      "Starting execution 9 ...\n",
      "Hypervolume =  0.868353138163\n",
      "Convergence metric =  0.00209184316998\n",
      "Execution 9  completed in  6.426303 seconds\n",
      "\n",
      "Starting execution 10 ...\n",
      "Hypervolume =  0.868415678733\n",
      "Convergence metric =  0.00210237493242\n",
      "Execution 10  completed in  6.553080 seconds\n",
      "\n",
      "Average hypervolume= 0.868347210034\n",
      "Best hypervolume= 0.869213811705\n",
      "\n",
      "NSGA-II finished all experiments\n",
      "\n",
      "Running MOMCEDA\n",
      "\n",
      "Starting execution 1 ...\n",
      "Hypervolume =  0.871388230873\n",
      "Convergence metric =  0.000418844466315\n",
      "Execution  1  completed in  101.304801941  seconds \n",
      "\n",
      "Starting execution 2 ...\n",
      "Hypervolume =  0.871402510454\n",
      "Convergence metric =  0.000447958555333\n",
      "Execution  2  completed in  101.493873835  seconds \n",
      "\n",
      "Starting execution 3 ...\n",
      "Hypervolume =  0.871191506555\n",
      "Convergence metric =  0.000527004816988\n",
      "Execution  3  completed in  100.658084869  seconds \n",
      "\n",
      "Starting execution 4 ...\n",
      "Hypervolume =  0.871372011582\n",
      "Convergence metric =  0.000461889959479\n",
      "Execution  4  completed in  101.148499012  seconds \n",
      "\n",
      "Starting execution 5 ...\n",
      "Hypervolume =  0.871205330877\n",
      "Convergence metric =  0.000518976917525\n",
      "Execution  5  completed in  101.301982164  seconds \n",
      "\n",
      "Starting execution 6 ...\n",
      "Hypervolume =  0.871260286911\n",
      "Convergence metric =  0.000556820116496\n",
      "Execution  6  completed in  101.209722042  seconds \n",
      "\n",
      "Starting execution 7 ...\n",
      "Hypervolume =  0.871353831203\n",
      "Convergence metric =  0.000544257639378\n",
      "Execution  7  completed in  101.758270979  seconds \n",
      "\n",
      "Starting execution 8 ...\n",
      "Hypervolume =  0.871264312324\n",
      "Convergence metric =  0.000518650226763\n",
      "Execution  8  completed in  100.851563215  seconds \n",
      "\n",
      "Starting execution 9 ...\n",
      "Hypervolume =  0.871418210324\n",
      "Convergence metric =  0.000433769876558\n",
      "Execution  9  completed in  101.451565981  seconds \n",
      "\n",
      "Starting execution 10 ...\n",
      "Hypervolume =  0.871299973529\n",
      "Convergence metric =  0.000474962527981\n",
      "Execution  10  completed in  101.378992081  seconds \n",
      "\n",
      "Average hypervolume= 0.871315620463\n",
      "Best hypervolume= 0.871418210324\n",
      "\n",
      "MOMCEDA finished all experiments\n",
      "\n"
     ]
    },
    {
     "data": {
      "text/plain": [
       "<Figure size 432x288 with 0 Axes>"
      ]
     },
     "metadata": {},
     "output_type": "display_data"
    }
   ],
   "source": [
    "%run ../dev/MOMCEDA/nsga2.py\n",
    "plt.close('all')\n",
    "\n",
    "# Parameter settings\n",
    "\n",
    "seed = 1 # Random seed\n",
    "NPop = 100 # Population size\n",
    "NEval = 20000 # Number of function evaluations\n",
    "nReps = 10 # Number of repetitions\n",
    "RTPlot = False # Activate interactive plots\n",
    "refPoint = [1.1,1.1] # Reference point for hypervolume indicator\n",
    "w = np.array([10.0,5.0,3.0,1.0]) # Array of weights used for TOPSIS \n",
    "\n",
    "# Test-problem selection\n",
    "\n",
    "function = 'ZDT1' # Type of problem\n",
    "\n",
    "runNSGA2(seed,function,nReps,NEval,NPop,refPoint)\n",
    "runMOMCEDA(NPop,NEval,function,Nref,nReps,RTPlot,refPoint,w,seed)"
   ]
  },
  {
   "cell_type": "markdown",
   "metadata": {},
   "source": [
    "#### ZDT2"
   ]
  },
  {
   "cell_type": "code",
   "execution_count": 10,
   "metadata": {},
   "outputs": [
    {
     "name": "stdout",
     "output_type": "stream",
     "text": [
      "Running NSGA-II\n",
      "\n",
      "Starting execution 1 ...\n",
      "Hypervolume =  0.534793300439\n",
      "Convergence metric =  0.00180900320428\n",
      "Execution 1  completed in  6.686134 seconds\n",
      "\n",
      "Starting execution 2 ...\n",
      "Hypervolume =  0.533960732388\n",
      "Convergence metric =  0.00243030690151\n",
      "Execution 2  completed in  6.966271 seconds\n",
      "\n",
      "Starting execution 3 ...\n",
      "Hypervolume =  0.534387880112\n",
      "Convergence metric =  0.00210009835006\n",
      "Execution 3  completed in  6.925072 seconds\n",
      "\n",
      "Starting execution 4 ...\n",
      "Hypervolume =  0.534611991606\n",
      "Convergence metric =  0.00216060763696\n",
      "Execution 4  completed in  6.781098 seconds\n",
      "\n",
      "Starting execution 5 ...\n",
      "Hypervolume =  0.535153789326\n",
      "Convergence metric =  0.00159611480097\n",
      "Execution 5  completed in  6.692208 seconds\n",
      "\n",
      "Starting execution 6 ...\n",
      "Hypervolume =  0.534287892826\n",
      "Convergence metric =  0.00231578981608\n",
      "Execution 6  completed in  6.741040 seconds\n",
      "\n",
      "Starting execution 7 ...\n",
      "Hypervolume =  0.534824212951\n",
      "Convergence metric =  0.00195174665605\n",
      "Execution 7  completed in  6.620133 seconds\n",
      "\n",
      "Starting execution 8 ...\n",
      "Hypervolume =  0.532626782476\n",
      "Convergence metric =  0.00316929430638\n",
      "Execution 8  completed in  6.693840 seconds\n",
      "\n",
      "Starting execution 9 ...\n",
      "Hypervolume =  0.534968821317\n",
      "Convergence metric =  0.00199577104342\n",
      "Execution 9  completed in  6.642255 seconds\n",
      "\n",
      "Starting execution 10 ...\n",
      "Hypervolume =  0.534204580629\n",
      "Convergence metric =  0.0022514084269\n",
      "Execution 10  completed in  6.701005 seconds\n",
      "\n",
      "Average hypervolume= 0.534381998407\n",
      "Best hypervolume= 0.535153789326\n",
      "\n",
      "NSGA-II finished all experiments\n",
      "\n",
      "Running MOMCEDA\n",
      "\n",
      "Starting execution 1 ...\n",
      "Hypervolume =  0.538168133989\n",
      "Convergence metric =  0.000415084944088\n",
      "Execution  1  completed in  100.351330042  seconds \n",
      "\n",
      "Starting execution 2 ...\n",
      "Hypervolume =  0.538123641966\n",
      "Convergence metric =  0.000465065236273\n",
      "Execution  2  completed in  100.11164999  seconds \n",
      "\n",
      "Starting execution 3 ...\n",
      "Hypervolume =  0.538037802762\n",
      "Convergence metric =  0.00053433669402\n",
      "Execution  3  completed in  100.640426159  seconds \n",
      "\n",
      "Starting execution 4 ...\n",
      "Hypervolume =  0.538165676632\n",
      "Convergence metric =  0.000442478186601\n",
      "Execution  4  completed in  100.348618031  seconds \n",
      "\n",
      "Starting execution 5 ...\n",
      "Hypervolume =  0.538151461103\n",
      "Convergence metric =  0.000462541583467\n",
      "Execution  5  completed in  100.399848938  seconds \n",
      "\n",
      "Starting execution 6 ...\n",
      "Hypervolume =  0.538065985875\n",
      "Convergence metric =  0.000523011908498\n",
      "Execution  6  completed in  99.614552021  seconds \n",
      "\n",
      "Starting execution 7 ...\n",
      "Hypervolume =  0.537905368302\n",
      "Convergence metric =  0.000543978278057\n",
      "Execution  7  completed in  100.452389002  seconds \n",
      "\n",
      "Starting execution 8 ...\n",
      "Hypervolume =  0.538215180606\n",
      "Convergence metric =  0.000417939212762\n",
      "Execution  8  completed in  100.845914125  seconds \n",
      "\n",
      "Starting execution 9 ...\n",
      "Hypervolume =  0.538144175549\n",
      "Convergence metric =  0.000457199480771\n",
      "Execution  9  completed in  100.801118851  seconds \n",
      "\n",
      "Starting execution 10 ...\n",
      "Hypervolume =  0.538074787928\n",
      "Convergence metric =  0.000459863643448\n",
      "Execution  10  completed in  101.063392162  seconds \n",
      "\n",
      "Average hypervolume= 0.538105221471\n",
      "Best hypervolume= 0.538215180606\n",
      "\n",
      "MOMCEDA finished all experiments\n",
      "\n"
     ]
    }
   ],
   "source": [
    "# Test-problem selection\n",
    "\n",
    "function = 'ZDT2' # Type of problem\n",
    "\n",
    "runNSGA2(seed,function,nReps,NEval,NPop,refPoint)\n",
    "runMOMCEDA(NPop,NEval,function,Nref,nReps,RTPlot,refPoint,w,seed)"
   ]
  },
  {
   "cell_type": "markdown",
   "metadata": {},
   "source": [
    "#### ZDT3"
   ]
  },
  {
   "cell_type": "code",
   "execution_count": 11,
   "metadata": {},
   "outputs": [
    {
     "name": "stdout",
     "output_type": "stream",
     "text": [
      "Running NSGA-II\n",
      "\n",
      "Starting execution 1 ...\n",
      "Hypervolume =  1.3265472033\n",
      "Convergence metric =  0.00144789253963\n",
      "Execution 1  completed in  6.513750 seconds\n",
      "\n",
      "Starting execution 2 ...\n",
      "Hypervolume =  1.32592446532\n",
      "Convergence metric =  0.00168026294644\n",
      "Execution 2  completed in  6.465233 seconds\n",
      "\n",
      "Starting execution 3 ...\n",
      "Hypervolume =  1.32557771039\n",
      "Convergence metric =  0.00153673255774\n",
      "Execution 3  completed in  6.490251 seconds\n",
      "\n",
      "Starting execution 4 ...\n",
      "Hypervolume =  1.32631611633\n",
      "Convergence metric =  0.001697783155\n",
      "Execution 4  completed in  6.473188 seconds\n",
      "\n",
      "Starting execution 5 ...\n",
      "Hypervolume =  1.32652558506\n",
      "Convergence metric =  0.00141286020728\n",
      "Execution 5  completed in  6.557790 seconds\n",
      "\n",
      "Starting execution 6 ...\n",
      "Hypervolume =  1.32508873502\n",
      "Convergence metric =  0.00200114749474\n",
      "Execution 6  completed in  6.513813 seconds\n",
      "\n",
      "Starting execution 7 ...\n",
      "Hypervolume =  1.32618039459\n",
      "Convergence metric =  0.00165191768492\n",
      "Execution 7  completed in  6.493317 seconds\n",
      "\n",
      "Starting execution 8 ...\n",
      "Hypervolume =  1.32526682276\n",
      "Convergence metric =  0.00179085020326\n",
      "Execution 8  completed in  6.653778 seconds\n",
      "\n",
      "Starting execution 9 ...\n",
      "Hypervolume =  1.32621249143\n",
      "Convergence metric =  0.00204048231213\n",
      "Execution 9  completed in  6.520587 seconds\n",
      "\n",
      "Starting execution 10 ...\n",
      "Hypervolume =  1.32668580669\n",
      "Convergence metric =  0.00152076614765\n",
      "Execution 10  completed in  6.644165 seconds\n",
      "\n",
      "Average hypervolume= 1.32603253309\n",
      "Best hypervolume= 1.32668580669\n",
      "\n",
      "NSGA-II finished all experiments\n",
      "\n",
      "Running MOMCEDA\n",
      "\n",
      "Starting execution 1 ...\n",
      "Hypervolume =  1.32811207843\n",
      "Convergence metric =  0.00105811195729\n",
      "Execution  1  completed in  101.058154821  seconds \n",
      "\n",
      "Starting execution 2 ...\n",
      "Hypervolume =  1.32795670994\n",
      "Convergence metric =  0.00126159457341\n",
      "Execution  2  completed in  101.39615798  seconds \n",
      "\n",
      "Starting execution 3 ...\n",
      "Hypervolume =  1.32772873778\n",
      "Convergence metric =  0.00140240713173\n",
      "Execution  3  completed in  101.136352062  seconds \n",
      "\n",
      "Starting execution 4 ...\n",
      "Hypervolume =  1.3280404072\n",
      "Convergence metric =  0.00118162491644\n",
      "Execution  4  completed in  101.361430168  seconds \n",
      "\n",
      "Starting execution 5 ...\n",
      "Hypervolume =  1.32748020762\n",
      "Convergence metric =  0.00123963150519\n",
      "Execution  5  completed in  101.135703087  seconds \n",
      "\n",
      "Starting execution 6 ...\n",
      "Hypervolume =  1.32782447388\n",
      "Convergence metric =  0.00108465280395\n",
      "Execution  6  completed in  100.71013689  seconds \n",
      "\n",
      "Starting execution 7 ...\n",
      "Hypervolume =  1.3280356486\n",
      "Convergence metric =  0.00122383563256\n",
      "Execution  7  completed in  100.576889992  seconds \n",
      "\n",
      "Starting execution 8 ...\n",
      "Hypervolume =  1.32795024795\n",
      "Convergence metric =  0.00112359625544\n",
      "Execution  8  completed in  100.837888002  seconds \n",
      "\n",
      "Starting execution 9 ...\n",
      "Hypervolume =  1.32860785982\n",
      "Convergence metric =  0.00114052964928\n",
      "Execution  9  completed in  100.926647902  seconds \n",
      "\n",
      "Starting execution 10 ...\n",
      "Hypervolume =  1.32833158658\n",
      "Convergence metric =  0.00109671791801\n",
      "Execution  10  completed in  100.955991983  seconds \n",
      "\n",
      "Average hypervolume= 1.32800679578\n",
      "Best hypervolume= 1.32860785982\n",
      "\n",
      "MOMCEDA finished all experiments\n",
      "\n"
     ]
    }
   ],
   "source": [
    "# Test-problem selection\n",
    "\n",
    "function = 'ZDT3' # Type of problem\n",
    "\n",
    "runNSGA2(seed,function,nReps,NEval,NPop,refPoint)\n",
    "runMOMCEDA(NPop,NEval,function,Nref,nReps,RTPlot,refPoint,w,seed)"
   ]
  },
  {
   "cell_type": "markdown",
   "metadata": {},
   "source": [
    "#### ZDT4"
   ]
  },
  {
   "cell_type": "code",
   "execution_count": 12,
   "metadata": {},
   "outputs": [
    {
     "name": "stdout",
     "output_type": "stream",
     "text": [
      "Running NSGA-II\n",
      "\n",
      "Starting execution 1 ...\n",
      "Hypervolume =  0.857045978338\n",
      "Convergence metric =  0.00850764659971\n",
      "Execution 1  completed in  7.153722 seconds\n",
      "\n",
      "Starting execution 2 ...\n",
      "Hypervolume =  0.8641008852\n",
      "Convergence metric =  0.00469415050418\n",
      "Execution 2  completed in  7.002130 seconds\n",
      "\n",
      "Starting execution 3 ...\n",
      "Hypervolume =  0.86784360067\n",
      "Convergence metric =  0.00224463006654\n",
      "Execution 3  completed in  7.075137 seconds\n",
      "\n",
      "Starting execution 4 ...\n",
      "Hypervolume =  0.864783763067\n",
      "Convergence metric =  0.00446013284003\n",
      "Execution 4  completed in  7.034148 seconds\n",
      "\n",
      "Starting execution 5 ...\n",
      "Hypervolume =  0.862532823242\n",
      "Convergence metric =  0.00541416108098\n",
      "Execution 5  completed in  7.034103 seconds\n",
      "\n",
      "Starting execution 6 ...\n",
      "Hypervolume =  0.853703654241\n",
      "Convergence metric =  0.00991032886231\n",
      "Execution 6  completed in  7.262751 seconds\n",
      "\n",
      "Starting execution 7 ...\n",
      "Hypervolume =  0.852194998531\n",
      "Convergence metric =  0.00826195295396\n",
      "Execution 7  completed in  7.189147 seconds\n",
      "\n",
      "Starting execution 8 ...\n",
      "Hypervolume =  0.857467763108\n",
      "Convergence metric =  0.00894694966161\n",
      "Execution 8  completed in  7.148685 seconds\n",
      "\n",
      "Starting execution 9 ...\n",
      "Hypervolume =  0.857998177009\n",
      "Convergence metric =  0.00858605702189\n",
      "Execution 9  completed in  7.050459 seconds\n",
      "\n",
      "Starting execution 10 ...\n",
      "Hypervolume =  0.85338717233\n",
      "Convergence metric =  0.00591631802206\n",
      "Execution 10  completed in  7.145611 seconds\n",
      "\n",
      "Average hypervolume= 0.859105881574\n",
      "Best hypervolume= 0.86784360067\n",
      "\n",
      "NSGA-II finished all experiments\n",
      "\n",
      "Running MOMCEDA\n",
      "\n",
      "Starting execution 1 ...\n",
      "Hypervolume =  0.868830475777\n",
      "Convergence metric =  0.00192343770375\n",
      "Execution  1  completed in  94.0687088966  seconds \n",
      "\n",
      "Starting execution 2 ...\n",
      "Hypervolume =  0.864837622032\n",
      "Convergence metric =  0.00451112959026\n",
      "Execution  2  completed in  95.5090358257  seconds \n",
      "\n",
      "Starting execution 3 ...\n",
      "Hypervolume =  0.866102889236\n",
      "Convergence metric =  0.00376919419623\n",
      "Execution  3  completed in  96.312472105  seconds \n",
      "\n",
      "Starting execution 4 ...\n",
      "Hypervolume =  0.838680146007\n",
      "Convergence metric =  0.0218532510555\n",
      "Execution  4  completed in  96.5720570087  seconds \n",
      "\n",
      "Starting execution 5 ...\n",
      "Hypervolume =  0.772892586475\n",
      "Convergence metric =  0.109591438826\n",
      "Execution  5  completed in  94.6121561527  seconds \n",
      "\n",
      "Starting execution 6 ...\n",
      "Hypervolume =  0.871037674865\n",
      "Convergence metric =  0.000588442552685\n",
      "Execution  6  completed in  97.4959409237  seconds \n",
      "\n",
      "Starting execution 7 ...\n",
      "Hypervolume =  0.868317225244\n",
      "Convergence metric =  0.00236643325756\n",
      "Execution  7  completed in  98.3465380669  seconds \n",
      "\n",
      "Starting execution 8 ...\n",
      "Hypervolume =  0.85619421795\n",
      "Convergence metric =  0.010262455347\n",
      "Execution  8  completed in  95.7947700024  seconds \n",
      "\n",
      "Starting execution 9 ...\n",
      "Hypervolume =  0.863136984909\n",
      "Convergence metric =  0.00571947367201\n",
      "Execution  9  completed in  96.6258759499  seconds \n",
      "\n",
      "Starting execution 10 ...\n",
      "Hypervolume =  0.86889049838\n",
      "Convergence metric =  0.00184464072064\n",
      "Execution  10  completed in  96.9279131889  seconds \n",
      "\n",
      "Average hypervolume= 0.853892032087\n",
      "Best hypervolume= 0.871037674865\n",
      "\n",
      "MOMCEDA finished all experiments\n",
      "\n"
     ]
    }
   ],
   "source": [
    "# Test-problem selection\n",
    "\n",
    "function = 'ZDT4' # Type of problem\n",
    "\n",
    "runNSGA2(seed,function,nReps,NEval,NPop,refPoint)\n",
    "runMOMCEDA(NPop,NEval,function,Nref,nReps,RTPlot,refPoint,w,seed)"
   ]
  },
  {
   "cell_type": "markdown",
   "metadata": {},
   "source": [
    "#### ZDT6"
   ]
  },
  {
   "cell_type": "code",
   "execution_count": 13,
   "metadata": {
    "scrolled": false
   },
   "outputs": [
    {
     "name": "stdout",
     "output_type": "stream",
     "text": [
      "Running NSGA-II\n",
      "\n",
      "Starting execution 1 ...\n",
      "Hypervolume =  0.483369513286\n",
      "Convergence metric =  0.0152022063121\n",
      "Execution 1  completed in  6.840901 seconds\n",
      "\n",
      "Starting execution 2 ...\n",
      "Hypervolume =  0.485016841236\n",
      "Convergence metric =  0.0140696171174\n",
      "Execution 2  completed in  6.880980 seconds\n",
      "\n",
      "Starting execution 3 ...\n",
      "Hypervolume =  0.479404509344\n",
      "Convergence metric =  0.0183974920667\n",
      "Execution 3  completed in  6.942182 seconds\n",
      "\n",
      "Starting execution 4 ...\n",
      "Hypervolume =  0.481431268621\n",
      "Convergence metric =  0.0167457577685\n",
      "Execution 4  completed in  6.901401 seconds\n",
      "\n",
      "Starting execution 5 ...\n",
      "Hypervolume =  0.488822013168\n",
      "Convergence metric =  0.0111744075603\n",
      "Execution 5  completed in  7.120955 seconds\n",
      "\n",
      "Starting execution 6 ...\n",
      "Hypervolume =  0.483955971546\n",
      "Convergence metric =  0.0153613425079\n",
      "Execution 6  completed in  6.988631 seconds\n",
      "\n",
      "Starting execution 7 ...\n",
      "Hypervolume =  0.484707356701\n",
      "Convergence metric =  0.0144207649121\n",
      "Execution 7  completed in  7.072408 seconds\n",
      "\n",
      "Starting execution 8 ...\n",
      "Hypervolume =  0.483691104191\n",
      "Convergence metric =  0.0150184058209\n",
      "Execution 8  completed in  6.976786 seconds\n",
      "\n",
      "Starting execution 9 ...\n",
      "Hypervolume =  0.483185379697\n",
      "Convergence metric =  0.0155199404299\n",
      "Execution 9  completed in  6.916692 seconds\n",
      "\n",
      "Starting execution 10 ...\n",
      "Hypervolume =  0.482853761834\n",
      "Convergence metric =  0.0153975808193\n",
      "Execution 10  completed in  6.847693 seconds\n",
      "\n",
      "Average hypervolume= 0.483643771962\n",
      "Best hypervolume= 0.488822013168\n",
      "\n",
      "NSGA-II finished all experiments\n",
      "\n",
      "Running MOMCEDA\n",
      "\n",
      "Starting execution 1 ...\n",
      "Hypervolume =  0.504263733326\n",
      "Convergence metric =  0.000326085875457\n",
      "Execution  1  completed in  98.2129240036  seconds \n",
      "\n",
      "Starting execution 2 ...\n",
      "Hypervolume =  0.504294968873\n",
      "Convergence metric =  0.0003156125381\n",
      "Execution  2  completed in  98.0294179916  seconds \n",
      "\n",
      "Starting execution 3 ...\n",
      "Hypervolume =  0.504238349109\n",
      "Convergence metric =  0.000324290361612\n",
      "Execution  3  completed in  98.6521420479  seconds \n",
      "\n",
      "Starting execution 4 ...\n",
      "Hypervolume =  0.50425005885\n",
      "Convergence metric =  0.000332169798172\n",
      "Execution  4  completed in  99.1437578201  seconds \n",
      "\n",
      "Starting execution 5 ...\n",
      "Hypervolume =  0.503964396679\n",
      "Convergence metric =  0.0247865838567\n",
      "Execution  5  completed in  102.147490978  seconds \n",
      "\n",
      "Starting execution 6 ...\n",
      "Hypervolume =  0.504379342688\n",
      "Convergence metric =  0.000293658862865\n",
      "Execution  6  completed in  100.351332188  seconds \n",
      "\n",
      "Starting execution 7 ...\n",
      "Hypervolume =  0.504201271034\n",
      "Convergence metric =  0.000304428670014\n",
      "Execution  7  completed in  100.210624933  seconds \n",
      "\n",
      "Starting execution 8 ...\n",
      "Hypervolume =  0.504039104257\n",
      "Convergence metric =  0.000413711177502\n",
      "Execution  8  completed in  100.65992713  seconds \n",
      "\n",
      "Starting execution 9 ...\n",
      "Hypervolume =  0.504148639518\n",
      "Convergence metric =  0.000365745784312\n",
      "Execution  9  completed in  103.126302958  seconds \n",
      "\n",
      "Starting execution 10 ...\n",
      "Hypervolume =  0.504124851521\n",
      "Convergence metric =  0.0567332400796\n",
      "Execution  10  completed in  100.013808966  seconds \n",
      "\n",
      "Average hypervolume= 0.504190471585\n",
      "Best hypervolume= 0.504379342688\n",
      "\n",
      "MOMCEDA finished all experiments\n",
      "\n"
     ]
    }
   ],
   "source": [
    "# Test-problem selection\n",
    "\n",
    "function = 'ZDT6' # Type of problem\n",
    "\n",
    "runNSGA2(seed,function,nReps,NEval,NPop,refPoint)\n",
    "runMOMCEDA(NPop,NEval,function,Nref,nReps,RTPlot,refPoint,w,seed)"
   ]
  },
  {
   "cell_type": "markdown",
   "metadata": {},
   "source": [
    "## Resultados\n",
    "\n",
    "Primeiramente, vamos analisar a evolução da métrica de hipervolume ao longo das gerações para os dois algoritmos, MOMCEDA e NSGA-II, em três dos problemas-teste: ZDT1, ZDT2 e ZDT6. As figuras a seguir apresentam um diagrama de barras representando o valor médio da métrica e os respectivos desvios padrões em função do número de avaliações das funções objetivo realizadas."
   ]
  },
  {
   "cell_type": "code",
   "execution_count": 3,
   "metadata": {},
   "outputs": [
    {
     "data": {
      "image/png": "[encoded data removed]",
      "text/plain": [
       "<Figure size 864x864 with 1 Axes>"
      ]
     },
     "metadata": {
      "needs_background": "light"
     },
     "output_type": "display_data"
    }
   ],
   "source": [
    "%matplotlib inline\n",
    "\n",
    "%run ../dev/MOMCEDA/HVbar.py\n",
    "\n",
    "function = 'ZDT1'\n",
    "nReps = 10\n",
    "NEval = 20000\n",
    "NPop = 100\n",
    "\n",
    "showHVBar(function,nReps,NEval,NPop)"
   ]
  },
  {
   "cell_type": "code",
   "execution_count": 5,
   "metadata": {},
   "outputs": [
    {
     "data": {
      "image/png": "[encoded data removed]",
      "text/plain": [
       "<Figure size 864x864 with 1 Axes>"
      ]
     },
     "metadata": {
      "needs_background": "light"
     },
     "output_type": "display_data"
    }
   ],
   "source": [
    "function = 'ZDT2'\n",
    "showHVBar(function,nReps,NEval,NPop)"
   ]
  },
  {
   "cell_type": "code",
   "execution_count": 7,
   "metadata": {},
   "outputs": [
    {
     "data": {
      "image/png": "[encoded data removed]",
      "text/plain": [
       "<Figure size 864x864 with 1 Axes>"
      ]
     },
     "metadata": {
      "needs_background": "light"
     },
     "output_type": "display_data"
    }
   ],
   "source": [
    "function = 'ZDT6'\n",
    "showHVBar(function,nReps,NEval,NPop)"
   ]
  },
  {
   "cell_type": "markdown",
   "metadata": {},
   "source": [
    "A seguir, apresentamos os valores finais das duas métricas avaliadas: hipervolume e convergência, para os dois algoritmos executados."
   ]
  },
  {
   "cell_type": "code",
   "execution_count": 9,
   "metadata": {},
   "outputs": [
    {
     "name": "stdout",
     "output_type": "stream",
     "text": [
      "Final values for ZDT 1  problem:\n",
      "Metric,         Algorithm,     Average,    Std. deviation\n",
      "Hypervolume,    MOMCEDA,      0.871316,    7.84E-05\n",
      "           ,    NSGA-II,      0.868347,    4.91E-04\n",
      "Convergence,    MOMCEDA,      0.000490,    4.63E-05\n",
      "           ,    NSGA-II,      0.002068,    2.15E-04\n",
      "\n",
      "Final values for ZDT 2  problem:\n",
      "Metric,         Algorithm,     Average,    Std. deviation\n",
      "Hypervolume,    MOMCEDA,      0.538105,    8.41E-05\n",
      "           ,    NSGA-II,      0.534382,    6.82E-04\n",
      "Convergence,    MOMCEDA,      0.000472,    4.38E-05\n",
      "           ,    NSGA-II,      0.002178,    4.05E-04\n",
      "\n",
      "Final values for ZDT 3  problem:\n",
      "Metric,         Algorithm,     Average,    Std. deviation\n",
      "Hypervolume,    MOMCEDA,      1.328007,    2.96E-04\n",
      "           ,    NSGA-II,      1.326033,    5.26E-04\n",
      "Convergence,    MOMCEDA,      0.001181,    9.86E-05\n",
      "           ,    NSGA-II,      0.001678,    2.04E-04\n",
      "\n",
      "Final values for ZDT 4  problem:\n",
      "Metric,         Algorithm,     Average,    Std. deviation\n",
      "Hypervolume,    MOMCEDA,      0.853892,    2.85E-02\n",
      "           ,    NSGA-II,      0.859106,    5.13E-03\n",
      "Convergence,    MOMCEDA,      0.016243,    3.17E-02\n",
      "           ,    NSGA-II,      0.006694,    2.36E-03\n",
      "\n",
      "Final values for ZDT 6  problem:\n",
      "Metric,         Algorithm,     Average,    Std. deviation\n",
      "Hypervolume,    MOMCEDA,      0.504190,    1.17E-04\n",
      "           ,    NSGA-II,      0.483644,    2.32E-03\n",
      "Convergence,    MOMCEDA,      0.008420,    1.77E-02\n",
      "           ,    NSGA-II,      0.015131,    1.76E-03\n",
      "\n"
     ]
    }
   ],
   "source": [
    "problems = [1,2,3,4,6]\n",
    "for i in problems:\n",
    "    print 'Final values for ZDT',i,' problem:'\n",
    "    print 'Metric,         Algorithm,     Average,    Std. deviation'\n",
    "    \n",
    "    with open(''.join(['../dev/files/HV_ZDT',str(i),'_MOMCEDA.pk1']),'r') as filename:\n",
    "        hv1 = pickle.load(filename)\n",
    "    meanHV1 = hv1[:,-1].mean(axis=0)\n",
    "    stdHV1 = hv1[:,-1].std(axis=0)\n",
    "    \n",
    "    with open(''.join(['../dev/files/conv_ZDT',str(i),'_MOMCEDA.json']),'r') as filename:\n",
    "        conv1 = np.asarray(json.load(filename))\n",
    "    meanconv1 = conv1.mean(axis=0)\n",
    "    stdconv1 = conv1.std(axis=0)\n",
    "    \n",
    "    with open(''.join(['../dev/files/HV_ZDT',str(i),'_NSGA2.json']),'r') as filename:\n",
    "        hv2 = np.asarray(json.load(filename))\n",
    "    meanHV2 = hv2[:,-1].mean(axis=0)\n",
    "    stdHV2 = hv2[:,-1].std(axis=0)\n",
    "    \n",
    "    with open(''.join(['../dev/files/conv_ZDT',str(i),'_NSGA2.json']),'r') as filename:\n",
    "        conv2 = np.asarray(json.load(filename))\n",
    "    meanconv2 = conv2.mean(axis=0)\n",
    "    stdconv2 = conv2.std(axis=0)\n",
    "    \n",
    "    print 'Hypervolume,    MOMCEDA,      %f,    %.2E' %(meanHV1,stdHV1)\n",
    "    print '           ,    NSGA-II,      %f,    %.2E' %(meanHV2,stdHV2)\n",
    "    print 'Convergence,    MOMCEDA,      %f,    %.2E' %(meanconv1,stdconv1)\n",
    "    print '           ,    NSGA-II,      %f,    %.2E\\n' %(meanconv2,stdconv2)"
   ]
  },
  {
   "cell_type": "markdown",
   "metadata": {},
   "source": [
    "As figuras mostram que o método proposto atinge valores maiores da métrica de hipervolume utilizando menos avaliações de funções do que o NSGA-II nos três problemas considerados. Os resultados finais para as métricas de hipervolume e convergência também mostram um desempenho superior para o método na maioria dos problemas, com exceção para o problema ZDT4. O MOMCEDA também apresentou maior robustez do que o NSGA-II, uma vez que os valores obtidos para desvio padrão são menores na maioria dos casos, o que mostra que os resultados do MOMCEDA são mais consistentes."
   ]
  },
  {
   "cell_type": "markdown",
   "metadata": {},
   "source": [
    "## Conclusão\n",
    "\n",
    "Neste trabalho, propomos um algoritmo, denominado MOMCEDA, para solucionar problemas MOO. O método proposto consiste de um algoritmo genético que utiliza como base os algoritmos NSGA-II e NSGA-III, combinando uma técnica MCDM, o algoritmo TOPSIS, para guiar a busca por novas soluções candidatas com o auxílio de um modelo de distribuição. O método foi avaliado no conjunto de problemas-teste ZDT. Os resultados mostraram que, utilizando o mesmo número de recursos, o método obteve um melhor desempenho que o NSGA-II, além de apresentar resultados mais consistentes, ressaltando os aspectos positivos de inserir mecanismos de tomada de decisão em ténicas de otimização multiobjetivo."
   ]
  },
  {
   "cell_type": "markdown",
   "metadata": {},
   "source": [
    "## Referências\n",
    "\n",
    "Branke, J.; DEB, K.; Miettinen, K. & Slowinski, R., 2008. Multiobjective Optimization: Interactive and Evolutionary Approaches. Springer.\n",
    "\n",
    "Coello Coello, C., Lamont, G. B. & Van Veldhuizen, D. A., 2007. Evolutionary Algorithms for Solving Multi-Objective Problems. s.l.:Springer.\n",
    "\n",
    "Deb, K., Pratap, A., Agarwal, S. & Meyarivan, T., 2002. A fast and elitist multiobjective genetic algorithm: NSGA-II. IEEE Transactions on Evolutionary Computation, 6(2), pp. 182-197.\n",
    "\n",
    "Deb, K. & Jain, H., 2013. An Evolutionary Many-Objective Optimization Algorithm Using Reference-point Based Non-dominated Sorting Approach, Part I: Solving Problems with Box Constraints. IEEE Transactions on Evolutionary Computation, 18(4), pp. 577-601.\n",
    "\n",
    "Hauschild, M. & Pelikan, M., 2011. An introduction and survey of estimation of distribution algorithms. Swarm and Evolutionary Computation, Volume 1, pp. 111-128.\n",
    "\n",
    "Hwang, C. & Yoon, K., 1981. Multiple Attributes Decision Making Methods and Applications. Berlin: Springer-Verlag.\n",
    "\n",
    "Köksalan, M., Wallenius, J. & Zionts, S., 2011. Multiple Criteria Decision Making:\n",
    "From Early History to the 21st Century. s.l.:World Scientific.\n",
    "\n",
    "Larrañaga, P.  &  Lozano, J. A., 2001. Estimation of Distribution Al- gorithms: A New Tool for Evolutionary Computation. Kluwer Academic Publishers.\n",
    "\n",
    "Sousa Bezerra, P. M., 2018. Multi-Objective Optimization based on a Multi-Criteria Estimation of Distribution. Dissertação de Mestrado, Faculdade de Engenharia Elétrica e Computação da Universidade Estadual de Campinas - FEEC/Unicamp.\n",
    "\n",
    "Zitzler, E.; Deb, K. & Thiele, L., 2000. Comparison of multiobjective evolutionary algorithms: Empirical results. Evolutionary Computation, v. 8, p. 173–195.\n",
    "\n",
    "Zitzler, E. & Thiele, L., 1998. Multiobjective optimization using evolutionary algorithms — A comparative case study. Parallel Problem Solving from Nature - PPSN V, p. 292–301."
   ]
  }
 ],
 "metadata": {
  "cite2c": {
   "citations": {
    "6853877/6JUXZA65": {
     "DOI": "10.1162/106365600568202",
     "URL": "https://www.mitpressjournals.org/doi/10.1162/106365600568202",
     "abstract": "In this paper, we provide a systematic comparison of various evolutionary approaches to multiobjective optimization using six carefully chosen test functions. Each test function involves a particular feature that is known to cause difficulty in the evolutionary optimization process, mainly in converging to the Pareto-optimal front (e.g., multimodality and deception). By investigating these different problem features separately, it is possible to predict the kind of problems to which a certain technique is or is not well suited. However, in contrast to what was suspected beforehand, the experimental results indicate a hierarchy of the algorithms under consideration. Furthermore, the emerging effects are evidence that the suggested test functions provide sufficient complexity to compare multiobjective optimizers. Finally, elitism is shown to be an important factor for improving evolutionary multiobjective search.",
     "accessed": {
      "day": 16,
      "month": 4,
      "year": 2019
     },
     "author": [
      {
       "family": "Zitzler",
       "given": "Eckart"
      },
      {
       "family": "Deb",
       "given": "Kalyanmoy"
      },
      {
       "family": "Thiele",
       "given": "Lothar"
      }
     ],
     "container-title": "Evolutionary Computation",
     "container-title-short": "Evolutionary Computation",
     "id": "6853877/6JUXZA65",
     "issue": "2",
     "issued": {
      "day": 1,
      "month": 6,
      "year": 2000
     },
     "journalAbbreviation": "Evolutionary Computation",
     "page": "173-195",
     "page-first": "173",
     "shortTitle": "Comparison of Multiobjective Evolutionary Algorithms",
     "title": "Comparison of Multiobjective Evolutionary Algorithms: Empirical Results",
     "title-short": "Comparison of Multiobjective Evolutionary Algorithms",
     "type": "article-journal",
     "volume": "8"
    }
   }
  },
  "kernelspec": {
   "display_name": "Python 2",
   "language": "python",
   "name": "python2"
  },
  "language_info": {
   "codemirror_mode": {
    "name": "ipython",
    "version": 2
   },
   "file_extension": ".py",
   "mimetype": "text/x-python",
   "name": "python",
   "nbconvert_exporter": "python",
   "pygments_lexer": "ipython2",
   "version": "2.7.16"
  }
 },
 "nbformat": 4,
 "nbformat_minor": 2
}
