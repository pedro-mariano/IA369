{
 "cells": [
  {
   "cell_type": "markdown",
   "metadata": {},
   "source": [
    "# Introdução \n",
    "\n",
    "Problemas envolvendo a otimização simultânea de múltiplos objetivos ganham cada vez mais evidência com o avanço tecnológico. Há um aumento de interesse por formulações matemáticas voltadas para problemas de otimização multiobjetivo e de tomada de decisão multicritério, os quais possuem frentes de pesquisa bem consolidadas e com as seguintes estratégias: \n",
    "\n",
    "1. Otimização  multiobjetivo  (do  inglês *Multi-Objective Optimization* – MOO) (Branke et al., 2008): busca amostrar a fronteira de Pareto, composta por soluções eficientes do problema e que apresentam diferentes compromissos entre os objetivos, permitindo que a preferência do tomador de decisão seja definida e aplicada a posteriori. \n",
    "\n",
    "2. Tomada de decisão multicritério (do inglês *Multicriteria Decision Making* – MCDM) (Köksalan et al., 2011; Steuer, 1986): busca explorar a preferência a priori do tomador de decisão, de modo a ordenar por mérito as múltiplas alternativas de soluções eficientes existentes. \n",
    "\n",
    "Dentre as técnicas já propostas para resolver problemas MOO, destacam-se as metaheurísticas de otimização, em especial as que recorrem a estratégias de busca populacional (Coello Coello et al., 2007). Essas metaheurísticas centram seus esforços na descoberta de novas soluções candidatas que sejam diversas entre si e não-dominadas pelas demais soluções candidatas já descobertas, num processo iterativo. Nesta busca iterativa por se aproximar cada vez mais de soluções pertencentes à fronteira de Pareto, e dadas limitações de memória e processamento que inviabilizam a manutenção de todas as soluções candidatas já descobertas, muitas propostas já foram feitas na literatura para se definir que soluções candidatas já descobertas devem ser descartadas e quais devem ser usadas como ponto de partida para a descoberta de novas soluções. Como as metaheurísticas para MOO recorrem a muitos processos de tomada de decisão durante a busca populacional, a ideia aqui proposta consiste em utilizar técnicas de MCDM para ordenar por mérito as soluções não-dominadas correspondentes no espaço dos objetivos, com o intuito de obter novas soluções a partir daquelas que se mostram mais promissoras. Soluções não-dominadas entre si geralmente são tomadas na literatura como tendo a mesma relevância na definição da próxima população de soluções candidatas (Deb et al., 2002). Espera-se, com isso, chegar a técnicas de solução para MOO capazes de explorar ainda mais eficazmente os recursos computacionais dispo- níveis, além de potencialmente conduzir a soluções de melhor qualidade.\n",
    "\n",
    "Visto que é razoável supor que as soluções candidatas melhor classificadas estão localizadas nas regiões mais promissoras do espaço de busca, a lista ordenada de soluções candidatas pode ser explorada para conceber um modelo de estimação de distribuição (Hauschild & Pelikan, 2011). Neste trabalho, recorremos a um modelo de mistura de gaussianas, onde o centro de cada gaussiana está posicionado em uma solução candidata e os coeficientes de ponderação das gaussianas são não-negativos, com soma igual a um. O coeficiente de cada gaussiana é proporcional à qualidade relativa da correspondente solução candidata, de modo que soluções de alta qualidade irão contribuir mais para a função densidade de probabilidade. O desvio padrão de cada gaussiana depende de uma distância calculada par-a-par, a ser detalhada posteriormente."
   ]
  },
  {
   "cell_type": "markdown",
   "metadata": {},
   "source": [
    "# Proposta \n",
    "\n",
    "A estratégia da técnica inspira-se em algoritmos estado-da-arte em MOO, NSGA-II (Deb et al., 2002) e NSGA-III (Deb & Jain, 2013) - do inglês *Non-dominated Sorting Genetic Algorithm*. Estas metaheurísticas populacionais realizam, a cada geração, uma ordenação por não-dominância dos indivíduos.  Os indivíduos são separados em classes de dominância, e aqueles pertencentes às classes superiores são selecionados para integrar a população da próxima geração. Para comparar soluções candidatas pertencentes à mesma classe, utiliza-se uma medida que indica qual solução deve ser escolhida para melhorar a diversidade das soluções. No entanto, apenas um cirtério por vez é utilizado para classificar soluções candidatas.  Neste trabalho, propomos adotar uma conhecida técnica de tomada de decisão multicritério, o algoritmo TOPSIS (do inglês *Technique for Order of Preference by Similarity to Ideal Solution*) (Hwang & Yoon, 1981), para classificar soluções candidatas dentro de uma mesma classe de dominância segundo múltiplos critérios estabelecidos por um tomador de decisão, como proximidade a valores de referência e a própria promoção de diversidade da população. As preferências do usuário são inspiradas em políticas de decisão já propostas por algoritmos estado-da-arte. A amostragem de novas soluções candidatas é implementada por uma mistura de gaussianas, de modo que regiões do espaço de busca que contenham soluções de alta qualidade sejam exploradas de maneira mais intensa."
   ]
  },
  {
   "cell_type": "markdown",
   "metadata": {},
   "source": [
    "# Metodologia\n",
    "\n",
    "As seções a seguir descrevem os métodos que serão utilizados como base para o algoritmo proposto.\n",
    "\n",
    "## NSGA-II\n",
    "\n",
    "O NSGA-II foi proposto em Deb et al., 2002 e emprega o conceito de classes de dominância. A cada geração $t$, os indivíduos da população $P_t$ e seus descendentes $Q_t$ são ordenados de acordo com sua dominância por um processo denominado *Fast Non-dominated Sorting*. Ao final do processo, obtém-se a lista $\\mathcal{F}=(\\mathcal{F}_1,\\mathcal{F}_2,...)$ de classes de dominância. A primeira classe $\\mathcal{F}_1$ contém os indivíduos não-dominados, e corresponde à solução proposta pelo algoritmo. Para as classes subsequentes, os indivíduos pertencentes a uma classe $\\mathcal{F}_i, i>1$, são dominados apenas por indivíduos presentes nas classes $\\mathcal{F}_j, \\forall j < i$. Após realizada a ordenação, a população da geração seguinte $P_{t+1}$, de tamanho fixo $N$, é preenchida com indivíduos das primeiras classes, até que não seja mais possível inserir todos os indivíduos de uma dada classe sem exceder $N$. Seja $\\mathcal{F}_k$ a classe para a qual não foi possível inserir todos os indivíduos em $P_{t+1}$. Os indivíduos desta classe candidatos a comporem $P_{t+1}$ são ordenados de acordo com a medida de *crowding distance*, que avalia a densidade da população no espaço dos objetivos. As vagas restantes de $P_{t+1}$ são atribuídas àqueles que se situam nas regiões menos densas, com o intuito de manter a diversidade da população no espaço dos objetivos. Uma vez composta a população da nova geração, se inicia o processo de obtenção de novas soluções. Os progenitores são selecionados por meio de torneio binário, onde o vencedor é determinado pelos mesmos critérios utilizados para selecionar indivíduos para a população. Os descendentes são gerados a partir de operadores de recombinação e mutação, e inicia-se uma nova geração do algoritmo, até atingir seu critério de parada.\n",
    "\n",
    "Como podemos notar, na proposta original do NSGA-II, apenas um critério por vez é levado em conta para selecionar membros: dominância, e em caso de empate, diversidade no espaço dos objetivos. Neste trabalho, propõe-se a utilização de múltiplos critérios ao invés de apenas um; o algoritmo TOPSIS é então empregado para ordenar as soluções dentro de uma dada classe de dominância.\n",
    "\n",
    "Uma versão simplificada do algoritmo NSGA-II é apresentada a seguir. Para mais detalhes sobre as operações realizadas em cada passo, consultar Deb et al., 2002.\n",
    "\n",
    "**Algoritmo 1: NSGA-II - *Loop* principal** <br>\n",
    "*Enquanto o critério de parada não for atendido:*<br>\n",
    "$R_t = P_t \\cup Q_t$<br>\n",
    "$\\mathcal{F} = \\textit{fast-non-dominated-sort}(R_t)$<br>\n",
    "$P_{t+1} = \\emptyset, i=1 $<br>\n",
    "*Enquanto* $ |P_{t+1}| + |\\mathcal{F}_i| \\leq N$:<br>\n",
    "$\\quad \\textit{avalia-critérios} (\\mathcal{F}_i)$<br>\n",
    "$\\quad P_{t+1} = P_{t+1} \\cup \\mathcal{F}_i$<br>\n",
    "$\\quad i = i+1$<br>\n",
    "$\\textit{ordena-critérios}(\\mathcal{F}_i)$<br>\n",
    "$P_{t+1} = P_{t+1} \\cup \\mathcal{F}_i[1:N-|P_{t+1}|]$<br>\n",
    "$Q_{t+1} = \\textit{gera-descendentes}(P_{t+1}) $<br>\n",
    "$t = t+1$<br>\n",
    "*Retorna ao primeiro passo*"
   ]
  },
  {
   "cell_type": "markdown",
   "metadata": {},
   "source": [
    "## NSGA-III\n",
    "\n",
    "O NSGA-III foi proposto em Deb & Jain, 2013. Essencialmente, o algoritmo tem a mesma estrutura que a sua versão anterior, e também realiza a ordenação por dominância para classificar soluções candidatas. O critério de desempate para soluções dentro de uma mesma classe de dominância, entretanto, é diferente. Esta versão do algoritmo busca aliviar problemas que surgem em MOO quando há muitas funções objetivos (mais do que três). Para tal, o método avalia as soluções com base em pontos de referência, que são valores desejados para as funções objetivo, utilizados para guiar a busca de novas soluções candidatas. Estes pontos de referência podem ser fornecidos pelo usuário ou obtidos por meio de uma abordagem estrutural. Cada ponto dá origem a uma direção de referência, tomando como origem o ponto ideal no espaço de objetivos. Após normalizar as soluções, cada uma é associada à direção de referência mais próxima. A vizinhança de uma dada direção de referência é definida pelas soluções candidatas associadas a ela. Assim, o critério secundário promove a diversidade da população priorizando as soluções que se situam nas direções menos povoadas."
   ]
  },
  {
   "cell_type": "markdown",
   "metadata": {},
   "source": [
    "## TOPSIS\n",
    "\n",
    "Nesta pesquisa, o foco está em ordenar múltiplas soluções candidatas não dominadas entre si. Dentre as técnicas alternativas existentes na literatura, destaca-se o algoritmo TOPSIS (Hwang & Yoon, 1981), o qual é ainda um dos algoritmos mais utilizados, pela sua simplicidade e pelo emprego de regras intuitivas \\cite{Behzadian2012}. A ideia por trás do TOPSIS é que a melhor opção de solução é aquela mais próxima da melhor solução possível e tão distante quanto possível da pior solução possível.\n",
    "\n",
    "Considere o problema de selecionar uma entre $Q$ soluções candidatas. Cada solução\n",
    "alternativa é avaliada junto a $M$ critérios. Seja $S=\\{S_1, S_2,..., S_Q\\}$ o conjunto de $Q$ soluções candidatas e $C=\\{C_1, C_2,..., C_M\\}$ o conjunto de $M$ critérios. Chega-se então à seguinte matriz de decisão:\n",
    "\n",
    "<img src=\"../figures/decision_matrix.png\" width=\"250px\">\n",
    "\n",
    "onde $v_{ij}$ representa a avaliação da $i$-ésima solução candidata em relação ao $j$-ésimo critério. Os passos do algoritmo TOPSIS são apresentados a seguir:\n",
    "\n",
    "**Algoritmo 2: TOPSIS**<br>\n",
    "1. Normalize a matriz de decisão:\n",
    "\n",
    "$$\n",
    "r_{ij} = \\frac{v_{ij}}{\\sqrt[]{\\sum\\limits_{k=1}^{Q} v_{kj}^2}}\n",
    "$$\n",
    "\n",
    "2. Incorpore os pesos de cada critério junto à matriz de decisão, produzindo:\n",
    "\n",
    "$$\n",
    "d_{ij} = w_{j}r_{ij}\n",
    "$$\n",
    "\n",
    "3. Defina a solução ideal positiva $d_j^+$ e a solução ideal negativa $d_j^-$ para cada um dos $M$ critérios: $d_j^+ = min(d_{1j} ,... , d_{Qj}) $ e $d_j^- = max(d_{1j} ,... , d_{Qj}) $  quando o critério está sendo minimizado, e vice-versa quando o critério está sendo maximizado.\n",
    "\n",
    "4. Calcule a medida de separação para cada solução candidata:\n",
    "\n",
    "$$\n",
    "S_i^+ = \\sqrt[]{\\sum\\limits_{j=1}^{M} (d_j^+ - d_{ij})^2}, i=1,...,Q\n",
    "$$\n",
    "\n",
    "$$\n",
    "S_i^- = \\sqrt[]{\\sum\\limits_{j=1}^{M} (d_j^- - d_{ij})^2}, i=1,...,Q\n",
    "$$\n",
    "\n",
    "5. Calcule os coeficientes de proximidade da solução ideal de cada solução candidata:\n",
    "\n",
    "$$\n",
    "CC_i = \\frac{S_i^-}{S_i^- + S_i^+}, i=1,...,Q\n",
    "$$\n",
    "\n",
    "6. Ordene as soluções candidatas de acordo com esses coeficientes de proximidade, de modo que, quanto maior $CC_i$, melhor será a $i$-ésima solução candidata."
   ]
  },
  {
   "cell_type": "markdown",
   "metadata": {},
   "source": [
    "## Estimação de distribuição\n",
    "\n",
    "O problema de estimar a função densidade de probabilidade de uma distribuição contínua de dados requer a identificação de um modelo para essa função. A ideia aqui é adotar a ordenação das soluções candidatas produzidas pelo algoritmo de MCDM denominado TOPSIS para gerar um modelo de distribuição paramétrico, mais especificamente uma mistura de gaussianas (Bilmes, 1997), que será utilizado para a amostragem de novas soluções candidatas. Um modelo de misturas é formado por uma composição de diversas funções densidade de probabilidade, distintas ou não. Em uma mistura de gaussianas, essas funções são gaussianas. Para a $k$-ésima função, um coeficiente de ponderação $\\pi_k$ é atribuído para indicar a chance de que um novo dado seja gerado por essa função. Esses coeficientes são chamados de coeficientes de mistura e satisfazem a relação a seguir:\n",
    "\n",
    "$$ \\sum\\limits_{k=1}^N \\pi_k = 1, \\quad 0 \\leq \\pi_k \\leq 1 $$\n",
    "\n",
    "onde $N$ é o número de funções. No nosso caso, cada solução candidata é o centro de uma gaussiana no espaço das variáveis de decisão. O coeficiente de mistura de uma dada função é tão alto quanto a relevância da solução candidata correspondente, fornecida pelo algoritmo TOPSIS. O princípio por trás dessa proposição é o de que novas soluções candidatas têm maior chance de serem geradas nas regiões próximas às soluções já encontradas que estão bem classificadas. Aqui, adotamos uma lei de decaimento linear para os coeficientes, que se anula para a pior solução:\n",
    "\n",
    "$$ \\pi_k = \\frac{2(k-N)}{N(1-N)} $$\n",
    "\n",
    "onde $k=1,...,N$ é a posição da solução candidata na lista ordenada obtida pelo TOPSIS."
   ]
  },
  {
   "cell_type": "markdown",
   "metadata": {},
   "source": [
    "# Workflow\n",
    "\n",
    "O workflow do método aqui proposto está representado na figura a seguir. O usuário fornece as funções objetivo que deseja otimizar, bem como as suas preferências que serão utilizadas para classificar soluções candidatas. Além disso, no caso de problemas-teste, a Fronteira de Pareto, que contém as soluções não dominadas do problema, é conhecida e uma amostra de seus pontos também é fornecida para o cálculo de métricas de avaliação do algoritmo. O algoritmo itera sobre uma população de soluções candidatas, cujos indivíduos não-dominados correspondem à saída ao final da execução. Esses indivíduos são utilizados para o cálculo de métricas de avaliação.\n",
    "\n",
    "<img src=\"../figures/MOMCEDA-workflow.png\">"
   ]
  },
  {
   "cell_type": "markdown",
   "metadata": {},
   "source": [
    "# Visualização dos problemas-teste\n",
    "\n",
    "Este notebook apresenta um conjunto de problemas-teste que podem ser utilizados para testar o método de otimização multiobjetivo. Trata-se de um algoritmo evolutivo, que promove modificações iterativamente em uma população de soluções candidatas. Ao final de sua execução, deseja-se que os membros da população aproximem as soluções não-dominadas do problema, que constituem uma região denominada Fronteira de Pareto. Estas soluções apresentam o melhor compromisso possível entre os valores das funções objetivo. As características da Fronteira de Pareto dependem das funções objetivo de cada problema. Vamos apresentar aqui a visualização da Fronteira de Pareto de alguns problemas-teste que o algoritmo deve buscar aproximar."
   ]
  },
  {
   "cell_type": "markdown",
   "metadata": {},
   "source": [
    "## Problemas ZDT\n",
    "\n",
    "A classe de problemas-teste ZDT (Zitzler et al., 2000) apresenta 5 problemas (de ZDT1 a ZDT4 e ZDT6) com duas funções objetivo a serem otimizadas. As fronteiras de Pareto dos problemas desta classe apresentam diferentes características: convexas, não-convexas, desconexas e não-uniformemente distribuídas. Os problemas possuem a seguinte formulação: \n",
    "\n",
    "$$\n",
    "\\min\n",
    "\\begin{cases}\n",
    "f_1(\\mathbf{x})\\\\\n",
    "f_2(\\mathbf{x}) = g(\\mathbf{x}) \\cdot h(f_1(\\mathbf{x}),g(\\mathbf{x}))\n",
    "\\end{cases}\n",
    "$$\n",
    "\n",
    "onde $\\mathbf{x}$ é o vetor de variáveis de decisão de uma solução candidata, $f_1(\\mathbf{x}), f_2(\\mathbf{x})$ são as funções objetivo do problema a serem otimizadas, e $g(\\mathbf{x}), h(\\mathbf{x})$ são funções auxiliares. O número de variáveis de decisão e as funções variam entre os 5 problemas da classe. A fronteira de Pareto é representada por uma curva no espaço dos objetivos cujos pontos correspondem aos valores de $f_1(\\mathbf{x})$ e $f_2(\\mathbf{x})$ que constituem as soluções não dominadas do problema de otimização multiobjetivo. No caso dos problemas ZDT, esta curva é dada pelos valores de $\\mathbf{x}$ tais que $g(\\mathbf{x}) = 1$."
   ]
  },
  {
   "cell_type": "markdown",
   "metadata": {},
   "source": [
    "O trecho de código a seguir apresenta uma função que salva em um arquivo na pasta *Pareto* um conjunto de $N$ amostras da froteira de Pareto do problema *function*."
   ]
  },
  {
   "cell_type": "code",
   "execution_count": 1,
   "metadata": {},
   "outputs": [],
   "source": [
    "import numpy as np\n",
    "import matplotlib.pyplot as plt\n",
    "import json\n",
    "\n",
    "%matplotlib inline\n",
    "\n",
    "def generateZDTPareto(function,N):\n",
    "\n",
    "    optimal_front = np.zeros((N,2));\n",
    "\n",
    "    f1 = np.linspace(0,1.0,N)\n",
    "\n",
    "    if(function == 'ZDT1' or function == 'ZDT4'):\n",
    "\n",
    "        f2 = 1 - np.sqrt(f1)\n",
    "\n",
    "    elif(function == 'ZDT2' or function == 'ZDT6'):\n",
    "\n",
    "        if(function == 'ZDT6'):\n",
    "\n",
    "            f1 = np.linspace(0.2807753191,1.0,N)\n",
    "\n",
    "        f2 = 1 - f1**2\n",
    "\n",
    "    elif(function == 'ZDT3'):\n",
    "        f1[:N/5] = np.linspace(0,0.0830015349,N/5)\n",
    "        f1[N/5:2*N/5] = np.linspace(0.1822287280,0.2577623634,N/5)\n",
    "        f1[2*N/5:3*N/5] = np.linspace(0.4093136748,0.4538821041,N/5)\n",
    "        f1[3*N/5:4*N/5] = np.linspace(0.6183967944,0.6525117038,N/5)\n",
    "        f1[4*N/5:] = np.linspace(0.8233317983,0.8518328654,N/5)\n",
    "\n",
    "        f2 = 1 - np.sqrt(f1) -f1*np.sin(10*np.pi*f1)\n",
    "\n",
    "\n",
    "    optimal_front[:,0] = f1\n",
    "    optimal_front[:,1] = f2\n",
    "\n",
    "    optimal_front = optimal_front.tolist()\n",
    "    \n",
    "    with open(''.join(['../data/Prt_',function,'.json']),'w') as outfile:\n",
    "        json.dump(optimal_front,outfile)"
   ]
  },
  {
   "cell_type": "markdown",
   "metadata": {},
   "source": [
    "A função a seguir gera uma figura com a representação gráfica da fronteira de Pareto do problema *function*, fazendo uso do conjunto de amostras que foi gerado e salvo em um arquivo previamente."
   ]
  },
  {
   "cell_type": "code",
   "execution_count": 2,
   "metadata": {},
   "outputs": [],
   "source": [
    "def plot_2dfunction(function):\n",
    "    #with open(''.join(['Pareto/Prt_',function,'.pk1']), 'r') as filename:\n",
    "        #f = pickle.load(filename)\n",
    "     \n",
    "    with open(''.join(['../data/Prt_',function,'.json'])) as optimal_front_data:\n",
    "        f = np.array(json.load(optimal_front_data))\n",
    "    if(function == 'ZDT3'):\n",
    "        N = f.shape[0]\n",
    "        plt.plot(f[:N/5,0],f[:N/5,1],color='b')\n",
    "        plt.plot(f[N/5:2*N/5,0],f[N/5:2*N/5,1],color='b')\n",
    "        plt.plot(f[2*N/5:3*N/5,0],f[2*N/5:3*N/5,1],color='b')\n",
    "        plt.plot(f[3*N/5:4*N/5,0],f[3*N/5:4*N/5,1],color='b')\n",
    "        plt.plot(f[4*N/5:,0],f[4*N/5:,1],color='b')\n",
    "    else:\n",
    "        plt.plot(f[:,0],f[:,1],color='b')\n",
    "    plt.xlabel('f1')\n",
    "    plt.ylabel('f2')\n",
    "    plt.show()"
   ]
  },
  {
   "cell_type": "markdown",
   "metadata": {},
   "source": [
    "### ZDT1\n",
    "\n",
    "O problema ZDT1 possui $n=30$ variáveis definidas no domínio $\\mathbf{x}_i \\in [0;1], i=1,...,n$ e apresenta fronteira de Pareto contínua, convexa e uniformemente distribuída. Suas funções estão definidas a seguir:\n",
    "\n",
    "$$ \n",
    "\\begin{cases}\n",
    "f_1(\\mathbf{x}) = \\mathbf{x}_1\\\\\n",
    "g(\\mathbf{x}) = 1 + \\frac{9}{n-1} \\sum \\limits_{i=2}^{n} \\mathbf{x}_i\\\\\n",
    "h(f_1(\\mathbf{x}),g(\\mathbf{x})) = 1 - \\sqrt[]{\\frac{f_1(\\mathbf{x})}{g(\\mathbf{x})}}\n",
    "\\end{cases}\n",
    "$$\n",
    "\n",
    "A fronteira de Pareto do problema pode ser vista na figura abaixo."
   ]
  },
  {
   "cell_type": "code",
   "execution_count": 3,
   "metadata": {},
   "outputs": [
    {
     "data": {
      "image/png": "[encoded data removed]",
      "text/plain": [
       "<Figure size 432x288 with 1 Axes>"
      ]
     },
     "metadata": {
      "needs_background": "light"
     },
     "output_type": "display_data"
    }
   ],
   "source": [
    "function = 'ZDT1'\n",
    "N = 1000\n",
    "generateZDTPareto(function,N)\n",
    "plot_2dfunction(function)"
   ]
  },
  {
   "cell_type": "markdown",
   "metadata": {},
   "source": [
    "### ZDT2\n",
    "\n",
    "O problema ZDT2 possui $n=30$ variáveis definidas no domínio $\\mathbf{x}_i \\in [0;1], i=1,...,n$ e apresenta fronteira de Pareto contínua, não-convexa e uniformemente distribuída. Suas funções estão definidas a seguir:\n",
    "\n",
    "$$ \n",
    "\\begin{cases}\n",
    "f_1(\\mathbf{x}) = \\mathbf{x}_1\\\\\n",
    "g(\\mathbf{x}) = 1 + \\frac{9}{n-1} \\sum \\limits_{i=2}^{n} \\mathbf{x}_i\\\\\n",
    "h(f_1(\\mathbf{x}),g(\\mathbf{x})) = 1 - \\left(\\frac{f_1(\\mathbf{x})}{g(\\mathbf{x})}\\right)^2\n",
    "\\end{cases}\n",
    "$$\n",
    "\n",
    "A fronteira de Pareto do problema pode ser vista na figura abaixo."
   ]
  },
  {
   "cell_type": "code",
   "execution_count": 4,
   "metadata": {},
   "outputs": [
    {
     "data": {
      "image/png": "[encoded data removed]",
      "text/plain": [
       "<Figure size 432x288 with 1 Axes>"
      ]
     },
     "metadata": {
      "needs_background": "light"
     },
     "output_type": "display_data"
    }
   ],
   "source": [
    "function = 'ZDT2'\n",
    "N = 1000\n",
    "generateZDTPareto(function,N)\n",
    "plot_2dfunction(function)"
   ]
  },
  {
   "cell_type": "markdown",
   "metadata": {},
   "source": [
    "### ZDT3\n",
    "\n",
    "O problema ZDT3 possui $n=30$ variáveis definidas no domínio $\\mathbf{x}_i \\in [0;1], i=1,...,n$ e apresenta fronteira de Pareto não-contínua. Suas funções estão definidas a seguir:\n",
    "\n",
    "$$ \n",
    "\\begin{cases}\n",
    "f_1(\\mathbf{x}) = \\mathbf{x}_1\\\\\n",
    "g(\\mathbf{x}) = 1 + \\frac{9}{n-1} \\sum \\limits_{i=2}^{n} \\mathbf{x}_i\\\\\n",
    "h(f_1(\\mathbf{x}),g(\\mathbf{x})) = 1 - \\sqrt[]{\\frac{f_1(\\mathbf{x})}{g(\\mathbf{x})}} - \\left(\\frac{f_1(\\mathbf{x})}{g(\\mathbf{x})}\\right) \\cdot \\sin (10 \\cdot \\pi \\cdot f_1(\\mathbf{x}))\n",
    "\\end{cases}\n",
    "$$\n",
    "\n",
    "A fronteira de Pareto do problema pode ser vista na figura abaixo."
   ]
  },
  {
   "cell_type": "code",
   "execution_count": 5,
   "metadata": {},
   "outputs": [
    {
     "data": {
      "image/png": "[encoded data removed]",
      "text/plain": [
       "<Figure size 432x288 with 1 Axes>"
      ]
     },
     "metadata": {
      "needs_background": "light"
     },
     "output_type": "display_data"
    }
   ],
   "source": [
    "function = 'ZDT3'\n",
    "N = 1000\n",
    "generateZDTPareto(function,N)\n",
    "plot_2dfunction(function)"
   ]
  },
  {
   "cell_type": "markdown",
   "metadata": {},
   "source": [
    "### ZDT4\n",
    "\n",
    "O problema ZDT4 possui $n=10$ variáveis definidas no domínio  $\\mathbf{x}_1 \\in [0;1]$ e $\\mathbf{x}_i \\in [-5;5], i=2,...,n$ e apresenta fronteira de Pareto contínua e convexa. O problema apresenta diversas soluções Pareto-ótimas locais, que podem dificultar a aproximação da fronteira de Pareto real. Suas funções estão definidas a seguir:\n",
    "\n",
    "$$ \n",
    "\\begin{cases}\n",
    "f_1(\\mathbf{x}) = \\mathbf{x}_1\\\\\n",
    "g(\\mathbf{x}) = 1 + 10(n-1) + \\sum \\limits_{i=2}^{n} [\\mathbf{x}_i^2 - 10 \\cdot \\cos (4 \\cdot \\pi \\cdot \\mathbf{x}_i)]\\\\\n",
    "h(f_1(\\mathbf{x}),g(\\mathbf{x})) = 1 - \\sqrt[]{\\frac{f_1(\\mathbf{x})}{g(\\mathbf{x})}}\n",
    "\\end{cases}\n",
    "$$\n",
    "\n",
    "A fronteira de Pareto do problema pode ser vista na figura abaixo."
   ]
  },
  {
   "cell_type": "code",
   "execution_count": 6,
   "metadata": {},
   "outputs": [
    {
     "data": {
      "image/png": "[encoded data removed]",
      "text/plain": [
       "<Figure size 432x288 with 1 Axes>"
      ]
     },
     "metadata": {
      "needs_background": "light"
     },
     "output_type": "display_data"
    }
   ],
   "source": [
    "function = 'ZDT4'\n",
    "N = 1000\n",
    "generateZDTPareto(function,N)\n",
    "plot_2dfunction(function)"
   ]
  },
  {
   "cell_type": "markdown",
   "metadata": {},
   "source": [
    "### ZDT6\n",
    "\n",
    "O problema ZDT6 possui $n=10$ variáveis definidas no domínio $\\mathbf{x}_i \\in [0;1], i=1,...,n$ e apresenta fronteira de Pareto contínua, não-convexa e não uniformemente distribuída. Suas funções estão definidas a seguir:\n",
    "\n",
    "$$ \n",
    "\\begin{cases}\n",
    "f_1(\\mathbf{x}) = 1 - \\exp (-4\\mathbf{x}_1) \\cdot \\sin ^6 (6 \\cdot \\pi \\cdot \\mathbf{x}_1) \\\\\n",
    "g(\\mathbf{x}) = 1 + 9 \\cdot \\left(\\frac{\\sum \\limits_{i=2}^{n} \\mathbf{x}_i}{9}\\right)^{0.25} \\\\\n",
    "h(f_1(\\mathbf{x}),g(\\mathbf{x})) = 1 - \\left(\\frac{f_1(\\mathbf{x})}{g(\\mathbf{x})}\\right)^2\n",
    "\\end{cases}\n",
    "$$\n",
    "\n",
    "A fronteira de Pareto do problema pode ser vista na figura abaixo."
   ]
  },
  {
   "cell_type": "code",
   "execution_count": 7,
   "metadata": {},
   "outputs": [
    {
     "data": {
      "image/png": "[encoded data removed]",
      "text/plain": [
       "<Figure size 432x288 with 1 Axes>"
      ]
     },
     "metadata": {
      "needs_background": "light"
     },
     "output_type": "display_data"
    }
   ],
   "source": [
    "function = 'ZDT6'\n",
    "N = 1000\n",
    "generateZDTPareto(function,N)\n",
    "plot_2dfunction(function)"
   ]
  },
  {
   "cell_type": "markdown",
   "metadata": {},
   "source": [
    "## Referências\n",
    "\n",
    "Bilmes, J., 1997. A Gentle Tutorial of the EM Algorithm and its Application to Parameter Estimation for Gaussian Mixture and Hidden Markov Models, Berkeley, USA: ICSI, U.C..\n",
    "\n",
    "Branke, J.; DEB, K.; Miettinen, K. & Slowinski, R., 2008. Multiobjective Optimization: Interactive and Evolutionary Approaches. Springer.\n",
    "\n",
    "Coello Coello, C., Lamont, G. B. & Van Veldhuizen, D. A., 2007. Evolutionary Algorithms for Solving Multi-Objective Problems. s.l.:Springer.\n",
    "\n",
    "Deb, K., Pratap, A., Agarwal, S. & Meyarivan, T., 2002. A fast and elitist multiobjective genetic algorithm: NSGA-II. IEEE Transactions on Evolutionary Computation, 6(2), pp. 182-197.\n",
    "\n",
    "Deb, K. & Jain, H., 2013. An Evolutionary Many-Objective Optimization Algorithm Using Reference-point Based Non-dominated Sorting Approach, Part I: Solving Problems with Box Constraints. IEEE Transactions on Evolutionary Computation, 18(4), pp. 577-601.\n",
    "\n",
    "Hauschild, M. & Pelikan, M., 2011. An introduction and survey of estimation of distribution algorithms. Swarm and Evolutionary Computation, Volume 1, pp. 111-128. Hwang, C. & Yoon, K., 1981. Multiple Attributes Decision Making Methods and Applications. Berlin: Springer-Verlag.\n",
    "\n",
    "Hwang, C. & Yoon, K., 1981. Multiple Attributes Decision Making Methods and Applications. Berlin: Springer-Verlag.\n",
    "\n",
    "Köksalan, M., Wallenius, J. & Zionts, S., 2011. Multiple Criteria Decision Making:\n",
    "From Early History to the 21st Century. s.l.:World Scientific.\n",
    "\n",
    "Zitzler, E.; Deb, K. & Thiele, L., 2000. Comparison of multiobjective evolutionary algorithms: Empirical results. Evolutionary Computation, v. 8, p. 173–195."
   ]
  }
 ],
 "metadata": {
  "cite2c": {
   "citations": {
    "6853877/6JUXZA65": {
     "DOI": "10.1162/106365600568202",
     "URL": "https://www.mitpressjournals.org/doi/10.1162/106365600568202",
     "abstract": "In this paper, we provide a systematic comparison of various evolutionary approaches to multiobjective optimization using six carefully chosen test functions. Each test function involves a particular feature that is known to cause difficulty in the evolutionary optimization process, mainly in converging to the Pareto-optimal front (e.g., multimodality and deception). By investigating these different problem features separately, it is possible to predict the kind of problems to which a certain technique is or is not well suited. However, in contrast to what was suspected beforehand, the experimental results indicate a hierarchy of the algorithms under consideration. Furthermore, the emerging effects are evidence that the suggested test functions provide sufficient complexity to compare multiobjective optimizers. Finally, elitism is shown to be an important factor for improving evolutionary multiobjective search.",
     "accessed": {
      "day": 16,
      "month": 4,
      "year": 2019
     },
     "author": [
      {
       "family": "Zitzler",
       "given": "Eckart"
      },
      {
       "family": "Deb",
       "given": "Kalyanmoy"
      },
      {
       "family": "Thiele",
       "given": "Lothar"
      }
     ],
     "container-title": "Evolutionary Computation",
     "container-title-short": "Evolutionary Computation",
     "id": "6853877/6JUXZA65",
     "issue": "2",
     "issued": {
      "day": 1,
      "month": 6,
      "year": 2000
     },
     "journalAbbreviation": "Evolutionary Computation",
     "page": "173-195",
     "page-first": "173",
     "shortTitle": "Comparison of Multiobjective Evolutionary Algorithms",
     "title": "Comparison of Multiobjective Evolutionary Algorithms: Empirical Results",
     "title-short": "Comparison of Multiobjective Evolutionary Algorithms",
     "type": "article-journal",
     "volume": "8"
    }
   }
  },
  "kernelspec": {
   "display_name": "Python 2",
   "language": "python",
   "name": "python2"
  },
  "language_info": {
   "codemirror_mode": {
    "name": "ipython",
    "version": 2
   },
   "file_extension": ".py",
   "mimetype": "text/x-python",
   "name": "python",
   "nbconvert_exporter": "python",
   "pygments_lexer": "ipython2",
   "version": "2.7.15"
  }
 },
 "nbformat": 4,
 "nbformat_minor": 2
}
