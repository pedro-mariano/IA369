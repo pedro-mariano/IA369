{
 "cells": [
  {
   "cell_type": "markdown",
   "metadata": {},
   "source": [
    "<div class=\"cite2c-biblio\"></div># Nome: Pedro Mariano Sousa Bezerra     RA: 118383\n",
    "\n",
    "Este notebook apresenta um conjunto de problemas-teste que podem ser utilizados para testar o método de otimização multiobjetivo. Trata-se de um algoritmo evolutivo, que promove modificações iterativamente em uma população de soluções candidatas. Ao final de sua execução, deseja-se que os membros da população aproximem as soluções não-dominadas do problema, que constituem uma região denominada Fronteira de Pareto. As características da Fronteira de Pareto dependem das funções objetivo de cada problema. Vamos apresentar aqui a visualização da Fronteira de Pareto de alguns problemas-teste que o algoritmo deve buscar aproximar."
   ]
  },
  {
   "cell_type": "markdown",
   "metadata": {},
   "source": [
    "## Problemas ZDT\n",
    "\n",
    "A classe de problemas-teste ZDT <cite data-cite=\"6853877/6JUXZA65\"></cite> <div class=\"cite2c-biblio\"></div>apresenta 5 problemas (de ZDT1 a ZDT4 e ZDT6) com duas funções objetivo a serem otimizadas. As fronteiras de Pareto dos problemas desta classe apresentam diferentes características: convexas, não-convexas, desconexas e não-uniformemente distribuídas. Os problemas possuem a seguinte formulação: \n",
    "\n",
    "$$\n",
    "\\min\n",
    "\\begin{cases}\n",
    "f_1(\\mathbf{x})\\\\\n",
    "f_2(\\mathbf{x}) = g(\\mathbf{x}) \\cdot h(f_1(\\mathbf{x}),g(\\mathbf{x}))\n",
    "\\end{cases}\n",
    "$$\n",
    "\n",
    "onde $\\mathbf{x}$ é o vetor de variáveis de decisão de uma solução candidata, $f_1(\\mathbf{x}), f_2(\\mathbf{x})$ são as funções objetivo do problema a serem otimizadas, e $g(\\mathbf{x}), h(\\mathbf{x})$ são funções auxiliares. O número de variáveis de decisão e as funções variam entre os 5 problemas da classe."
   ]
  },
  {
   "cell_type": "markdown",
   "metadata": {},
   "source": [
    "<div class=\"cite2c-biblio\"></div>O trecho de código a seguir apresenta uma função que salva em um arquivo na pasta *Pareto* um conjunto de $N$ amostras da froteira de Pareto do problema *function*."
   ]
  },
  {
   "cell_type": "code",
   "execution_count": 1,
   "metadata": {},
   "outputs": [],
   "source": [
    "import numpy as np\n",
    "import matplotlib.pyplot as plt\n",
    "import json\n",
    "\n",
    "%matplotlib inline\n",
    "\n",
    "def generateZDTPareto(function,N):\n",
    "\n",
    "    optimal_front = np.zeros((N,2));\n",
    "\n",
    "    f1 = np.linspace(0,1.0,N)\n",
    "\n",
    "    if(function == 'ZDT1' or function == 'ZDT4'):\n",
    "\n",
    "        f2 = 1 - np.sqrt(f1)\n",
    "\n",
    "    elif(function == 'ZDT2' or function == 'ZDT6'):\n",
    "\n",
    "        if(function == 'ZDT6'):\n",
    "\n",
    "            f1 = np.linspace(0.2807753191,1.0,N)\n",
    "\n",
    "        f2 = 1 - f1**2\n",
    "\n",
    "    elif(function == 'ZDT3'):\n",
    "        f1[:N/5] = np.linspace(0,0.0830015349,N/5)\n",
    "        f1[N/5:2*N/5] = np.linspace(0.1822287280,0.2577623634,N/5)\n",
    "        f1[2*N/5:3*N/5] = np.linspace(0.4093136748,0.4538821041,N/5)\n",
    "        f1[3*N/5:4*N/5] = np.linspace(0.6183967944,0.6525117038,N/5)\n",
    "        f1[4*N/5:] = np.linspace(0.8233317983,0.8518328654,N/5)\n",
    "\n",
    "        f2 = 1 - np.sqrt(f1) -f1*np.sin(10*np.pi*f1)\n",
    "\n",
    "\n",
    "    optimal_front[:,0] = f1\n",
    "    optimal_front[:,1] = f2\n",
    "\n",
    "    optimal_front = optimal_front.tolist()\n",
    "    \n",
    "  
    "    with open(''.join(['Pareto/Prt_',function,'.json']),'w') as outfile:\n",
    "        json.dump(optimal_front,outfile)\n",
   ]
  },
  {
   "cell_type": "markdown",
   "metadata": {},
   "source": [
    "A função a seguir gera uma figura com a representação gráfica da fronteira de Pareto do problema *function*, fazendo uso do conjunto de amostras que foi gerado e salvo em um arquivo previamente."
   ]
  },
  {
   "cell_type": "code",
   "execution_count": 2,
   "metadata": {},
   "outputs": [],
   "source": [
    "def plot_2dfunction(function):\n",
    "    #with open(''.join(['Pareto/Prt_',function,'.pk1']), 'r') as filename:\n",
    "        #f = pickle.load(filename)\n",
    "     \n",
    "    with open(''.join(['Pareto/Prt_',function,'.json'])) as optimal_front_data:\n",
    "        f = np.array(json.load(optimal_front_data))\n",
    "    if(function == 'ZDT3'):\n",
    "        N = f.shape[0]\n",
    "        plt.plot(f[:N/5,0],f[:N/5,1],color='b')\n",
    "        plt.plot(f[N/5:2*N/5,0],f[N/5:2*N/5,1],color='b')\n",
    "        plt.plot(f[2*N/5:3*N/5,0],f[2*N/5:3*N/5,1],color='b')\n",
    "        plt.plot(f[3*N/5:4*N/5,0],f[3*N/5:4*N/5,1],color='b')\n",
    "        plt.plot(f[4*N/5:,0],f[4*N/5:,1],color='b')\n",
    "        plt.show()\n",
    "    else:\n",
    "        plt.plot(f[:,0],f[:,1],color='b')\n",
    "        plt.show()"
   ]
  },
  {
   "cell_type": "markdown",
   "metadata": {},
   "source": [
    "### ZDT1\n",
    "\n",
    "O problema ZDT1 possui $n=30$ variáveis definidas no domínio $\\mathbf{x}_i \\in [0;1], i=1,...,n$ e apresenta fronteira de Pareto contínua, convexa e uniformemente distribuída. Suas funções estão definidas a seguir:\n",
    "\n",
    "$$ \n",
    "\\begin{cases}\n",
    "f_1(\\mathbf{x}) = \\mathbf{x}_1\\\\\n",
    "g(\\mathbf{x}) = 1 + \\frac{9}{n-1} \\sum \\limits_{i=2}^{n} \\mathbf{x}_i\\\\\n",
    "h(f_1(\\mathbf{x}),g(\\mathbf{x})) = 1 - \\sqrt[]{\\frac{f_1(\\mathbf{x})}{g(\\mathbf{x})}}\n",
    "\\end{cases}\n",
    "$$\n",
    "\n",
    "A fronteira de Pareto do problema pode ser vista na figura abaixo."
   ]
  },
  {
   "cell_type": "code",
   "execution_count": 3,
   "metadata": {},
   "outputs": [
    {
     "data": {
      "image/png": "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\n",
      "text/plain": [
       "<Figure size 432x288 with 1 Axes>"
      ]
     },
     "metadata": {
      "needs_background": "light"
     },
     "output_type": "display_data"
    }
   ],
   "source": [
    "function = 'ZDT1'\n",
    "N = 1000\n",
    "generateZDTPareto(function,N)\n",
    "plot_2dfunction(function)"
   ]
  },
  {
   "cell_type": "markdown",
   "metadata": {},
   "source": [
    "### ZDT2\n",
    "\n",
    "O problema ZDT2 possui $n=30$ variáveis definidas no domínio $\\mathbf{x}_i \\in [0;1], i=1,...,n$ e apresenta fronteira de Pareto contínua, não-convexa e uniformemente distribuída. Suas funções estão definidas a seguir:\n",
    "\n",
    "$$ \n",
    "\\begin{cases}\n",
    "f_1(\\mathbf{x}) = \\mathbf{x}_1\\\\\n",
    "g(\\mathbf{x}) = 1 + \\frac{9}{n-1} \\sum \\limits_{i=2}^{n} \\mathbf{x}_i\\\\\n",
    "h(f_1(\\mathbf{x}),g(\\mathbf{x})) = 1 - \\left(\\frac{f_1(\\mathbf{x})}{g(\\mathbf{x})}\\right)^2\n",
    "\\end{cases}\n",
    "$$\n",
    "\n",
    "A fronteira de Pareto do problema pode ser vista na figura abaixo."
   ]
  },
  {
   "cell_type": "code",
   "execution_count": 4,
   "metadata": {},
   "outputs": [
    {
     "data": {
      "image/png": "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\n",
      "text/plain": [
       "<Figure size 432x288 with 1 Axes>"
      ]
     },
     "metadata": {
      "needs_background": "light"
     },
     "output_type": "display_data"
    }
   ],
   "source": [
    "function = 'ZDT2'\n",
    "N = 1000\n",
    "generateZDTPareto(function,N)\n",
    "plot_2dfunction(function)"
   ]
  },
  {
   "cell_type": "markdown",
   "metadata": {},
   "source": [
    "### ZDT3\n",
    "\n",
    "O problema ZDT3 possui $n=30$ variáveis definidas no domínio $\\mathbf{x}_i \\in [0;1], i=1,...,n$ e apresenta fronteira de Pareto não-contínua. Suas funções estão definidas a seguir:\n",
    "\n",
    "$$ \n",
    "\\begin{cases}\n",
    "f_1(\\mathbf{x}) = \\mathbf{x}_1\\\\\n",
    "g(\\mathbf{x}) = 1 + \\frac{9}{n-1} \\sum \\limits_{i=2}^{n} \\mathbf{x}_i\\\\\n",
    "h(f_1(\\mathbf{x}),g(\\mathbf{x})) = 1 - \\sqrt[]{\\frac{f_1(\\mathbf{x})}{g(\\mathbf{x})}} - \\left(\\frac{f_1(\\mathbf{x})}{g(\\mathbf{x})}\\right) \\cdot \\sin (10 \\cdot \\pi \\cdot f_1(\\mathbf{x}))\n",
    "\\end{cases}\n",
    "$$\n",
    "\n",
    "A fronteira de Pareto do problema pode ser vista na figura abaixo."
   ]
  },
  {
   "cell_type": "code",
   "execution_count": 5,
   "metadata": {},
   "outputs": [
    {
     "data": {
      "image/png": "iVBORw0KGgoAAAANSUhEUgAAAYYAAAD8CAYAAABzTgP2AAAABHNCSVQICAgIfAhkiAAAAAlwSFlzAAALEgAACxIB0t1+/AAAADl0RVh0U29mdHdhcmUAbWF0cGxvdGxpYiB2ZXJzaW9uIDIuMi4zLCBodHRwOi8vbWF0cGxvdGxpYi5vcmcvIxREBQAAHKhJREFUeJzt3XuUFeWZ7/Hvw90LKkgjhLsTNAIygFsEGRVFEU0C6gFFR8VEYbww0ejJEkejZ9BkTGYZLxNN5GgQGI+AJFGiElQuYkQIjSICDoKo0MLRDuCFgYDgc/6oImd325fdvS/vvvw+a+21d1W9tevpAvpH1Vv1lrk7IiIiBzUJXYCIiOQXBYOIiFShYBARkSoUDCIiUoWCQUREqlAwiIhIFQoGERGpQsEgIiJVKBhERKSKZqELaIx27dp59+7dQ5chIlJQVq5c+Rd3L6uvXUEGQ/fu3SkvLw9dhohIQTGzD1Npp1NJIiJShYJBRESqUDCIiEgVCgYREalCwSAiIlVkJBjM7Ddm9omZralluZnZQ2a20cxWm9mApGXjzGxD/BqXiXpERKTxMnXE8AQwoo7l5wE949cE4FcAZtYWuAs4BRgI3GVmbTJUk4iINEJGgsHdlwA76mgyCpjukWXAUWbWETgXeMndd7j7TuAl6g6YtPznf8Kvf52tbxcRKQ656mPoBGxJmq6I59U2/2vMbIKZlZtZeWVlZaOKePppeOSRRq0qIlIychUMVsM8r2P+12e6T3H3hLsnysrqvaO7Rh06wMcfN2pVEZGSkatgqAC6JE13BrbWMT8rOnSAykrYvz9bWxARKXy5Coa5wJXx1UmDgM/cfRswHxhuZm3iTufh8bys6NQJ3GHz5mxtQUSk8GVkED0zewoYCrQzswqiK42aA7j7r4EXgPOBjcBu4Hvxsh1mdjewIv6qye5eVyd2WgYPjt6XLIFjj83WVkRECpu513hKP68lEglvzOiqX30FxxwDI0bAjBlZKExEJI+Z2Up3T9TXrqTufG7SBL77XXj2Wfjv/w5djYhIfiqpYAC46ir44gv43e9CVyIikp9KLhhOOw169oQHHog6okVEpKqSCwYzmDQJ3ngD5s0LXY2ISP4puWAAuOIK6NYN7rwz6pAWEZH/rySDoXlzuOceWLkSpk8PXY2ISH4pyWAAuOwyGDQoOq30+eehqxERyR8lGwxNmsBDD0VjJ91xR+hqRETyR8kGA8DJJ8PEifDLX8Kf/hS6GhGR/FDSwQDwb/8WdURffTXs2RO6GhGR8Eo+GA4/HB57DN59F37849DViIiEV/LBADBsGPzTP8EvfgELF4auRkQkLAVD7L774Ljjonsctm8PXY2ISDgKhthhh8FTT0UP8rnmGg2XISKlS8GQpH9/uPdeeOYZmDIldDUiImEoGKq56SYYPjx6X706dDUiIrmnYKimSZNomIy2beGii+DTT0NXJCKSWwqGGhxzDDz9NHz4IVx5pQbaE5HSkpFgMLMRZrbezDaa2aQalt9vZqvi17tm9mnSsgNJy+Zmop5MOPXU6PLVP/wh6ncQESkVzdL9AjNrCjwMnANUACvMbK67rzvYxt1/mNT+n4H+SV+xx937pVtHNkycCMuWRTe+JRJR34OISLHLxBHDQGCju29y933ATGBUHe0vBZ7KwHazziy6OqlPHxgzBtasCV2RiEj2ZSIYOgFbkqYr4nlfY2bdgB5A8v3Frcys3MyWmdkFGagnow47DJ57Lho64/zzYdu20BWJiGRXJoLBaphX2+1hY4E57n4gaV5Xd08AlwEPmNnf1bgRswlxgJRXVlamV3EDdekShcOOHfCd78CuXTndvIhITmUiGCqALknTnYGttbQdS7XTSO6+NX7fBCymav9Dcrsp7p5w90RZWVm6NTdY//4waxasWgXf/S7s3p3zEkREciITwbAC6GlmPcysBdEv/69dXWRmxwNtgNeT5rUxs5bx53bAEGBd9XXzxbe/DTNmwJIlMHKkhukWkeKUdjC4+35gIjAfeAeY7e5rzWyymY1ManopMNO9yihEJwDlZvYWsAi4N/lqpnx02WUwdWo0Cuu3v60b4ESk+JgX4GhxiUTCy8vLg9bw5JPwve9Bz57wwgvRw35ERPKZma2M+3TrpDufG+kf/xFefBG2boWTTooG3hMRKQYKhjQMHQrLl0P37nDhhVFYbN4cuioRkfQoGNJ03HGwdGl0d/TvfgfHHx89z2HpUti/P3R1IiINp2DIgBYtYPJkWL8+egLcU0/BkCHRCK2nnBJd3vrss6GrjDz2WNQ3IiJSGwVDBnXtGg2hsXVrFA6XXw5HHAFbtsBnn4WuLrJ9OzzxBLzySuhKRCRf6aqkErNnT3T6q2PHqH/EarpvXUSKkq5KkhodcgjcfTesWBE9c0JEpDoFQwm64go48US44w44cKD+9iJSWhQMJahpU/jXf4UNG6Lxn0REkikYStSoUdFzJn7yEz26VESqUjCUqCZN4PbbYd266P4LEZGDFAwlbMyY6Ia8e+6BArw4TUSyRMFQwpo2hVtvhbfeggULQlcjIvlCwVDiLrsMjjkGfvGL0JWISL5QMJS4li1h4kSYNy/qbxARUTAI114LrVrBAw+ErkRE8oGCQWjXDsaNg+nTobIydDUiEpqCQQC46SbYuxd+9avQlYhIaAoGAeBb34Lzz4dHHokCQkRKV0aCwcxGmNl6M9toZpNqWH6VmVWa2ar4dU3SsnFmtiF+jctEPdI4N94IH38Ms2eHrkREQkp72G0zawq8C5wDVAArgEvdfV1Sm6uAhLtPrLZuW6AcSAAOrAROcveddW1Tw25nhzv07g2HHhqNvqohuUWKSy6H3R4IbHT3Te6+D5gJjEpx3XOBl9x9RxwGLwEjMlCTNIIZ/OAHsHJl9GhSESlNmQiGTsCWpOmKeF51/8PMVpvZHDPr0sB1JUeuuAKOOgoefDB0JSISSiaCoaYTDtXPT/0B6O7ufYGXgWkNWDdqaDbBzMrNrLxS11RmzWGHwfjx0cB6W7bU315Eik8mgqEC6JI03RnYmtzA3be7+8FrXf43cFKq6yZ9xxR3T7h7oqysLANlS21uuCHqb3j44dCViEgImQiGFUBPM+thZi2AscDc5AZm1jFpciTwTvx5PjDczNqYWRtgeDxPAurWDS68EKZMgd27Q1cjIrmWdjC4+35gItEv9HeA2e6+1swmm9nIuNkPzGytmb0F/AC4Kl53B3A3UbisACbH8ySwG2+EnTthxozQlYhIrqV9uWoIulw1+9zhpJOim93WrNGlqyLFIJeXq0oRMouGyVi3Dl5+OXQ1IpJLCgap1SWXRM9q0KWrIqVFwSC1atkyGpL7+edhw4bQ1YhIrigYpE7XXgvNm8N//EfoSkQkVxQMUqcOHWDsWJg6FT77LHQ1IpILCgap1403wq5d8JvfhK5ERHJBwSD1OukkGDIkOp104EDoakQk2xQMkpIbb4T334fnngtdiYhkm4JBUnLhhdCliy5dFSkFCgZJSbNm0eB6ixbB6tWhqxGRbFIwSMrGj4dDDoGHHgpdiYhkk4JBUta2LYwbFw2st3lz6GpEJFsUDNIgt90WvU+eHLYOEckeBYM0SNeucN118MQTsH596GpEJBsUDNJg//Iv0KoV3Hln6EpEJBsUDNJg7dvDLbfA7NnwyiuhqxGRTFMwSKPceit07w7XXw/79oWuRkQyScEgjXLoodEQGevWwX33ha5GRDJJwSCN9p3vwOjRcNddoCetihSPjASDmY0ws/VmttHMJtWw/GYzW2dmq81sgZl1S1p2wMxWxa+5mahHcufRR6OhuS+5BHbuDF2NiGRC2sFgZk2Bh4HzgF7ApWbWq1qzN4GEu/cF5gA/T1q2x937xa+R6dYjudW2LcycCRUV0RHE7t2hKxKRdGXiiGEgsNHdN7n7PmAmMCq5gbsvcveDvzKWAZ0zsF3JE6eeCk8+Ca+/DuecA598EroiEUlHJoKhE7Alaboinlebq4F5SdOtzKzczJaZ2QUZqEcCGD0aZs2CN9+E3r3hgQfgww9h//7QlWVHZWXoCkSyJxPBYDXM8xobml0OJIB/T5rd1d0TwGXAA2b2d7WsOyEOkPJK/avMS2PGwPLlcMIJ8MMfRpezdi7CY8Of/hQ6ddJpMylezTLwHRVAl6TpzsDW6o3M7GzgduAMd997cL67b43fN5nZYqA/8F719d19CjAFIJFI1Bg8Et6JJ8KSJbBmDbz2WnEeMfTrB19+CcuWwVlnha5GJPMyEQwrgJ5m1gP4CBhL9L//vzGz/sCjwAh3/yRpfhtgt7vvNbN2wBCqdkxLgerTJ3oVo3/4B2jSBBYvVjBIcUo7GNx9v5lNBOYDTYHfuPtaM5sMlLv7XKJTR4cDT5sZwOb4CqQTgEfN7Cui01r3uvu6dGsSyaYjjoABAzQciBSvTBwx4O4vAC9Um3dn0ueza1lvKXBiJmoQyaUzzoju/N6zJ3p4kUgx0Z3PIo0wdGg0RtTy5aErEck8BYNIIyT3M4gUGwWDSCMcdVR0dZL6GaQYKRhEGmno0Ohu77/+NXQlIpmlYBBppDPOgL174c9/Dl2JSGYpGEQa6bTTwEz9DFJ8FAwijdSmDfz936ufQYqPgkEkDUOHwtKl0SklkWKhYBBJwxlnRJ3PK1aErkQkcxQMImk4/fSon2HBgtCViGSOgkEkDW3bwsknw4svhq5EJHMUDCJpGj48Ghrj009DVyKSGQoGkTSdey4cOAALF4auRCQzFAwiaTrlFGjdGubPD12JSGYoGETS1Lw5DBsWBYPr2YJSBBQMIhkwfDh8+CFs2BC6EpH0KRhEMuDcc6N3XZ0kxUDBIJIBxx4L3/wmPP986EpE0qdgEMmQUaOiK5M+/zx0JSLpyUgwmNkIM1tvZhvNbFINy1ua2ax4+XIz65607LZ4/nozOzcT9YiEcMEF0eM+580LXYlIetIOBjNrCjwMnAf0Ai41s17Vml0N7HT3bwL3Az+L1+0FjAV6AyOAR+LvEyk4gwdDWRk880zoSkTSk4kjhoHARnff5O77gJnAqGptRgHT4s9zgGFmZvH8me6+193fBzbG3ydScJo2hZEjo34GjbYqhSwTwdAJ2JI0XRHPq7GNu+8HPgOOTnFdkYJx4YXwxRewaFHoSkQaLxPBYDXMq36bT21tUlk3+gKzCWZWbmbllZWVDSxRJDeGDYvugp41K3QlIo2XiWCoALokTXcGttbWxsyaAUcCO1JcFwB3n+LuCXdPlJWVZaBskcxr1QrGjIE5c2D37tDViDROJoJhBdDTzHqYWQuizuS51drMBcbFn0cDC93d4/lj46uWegA9AT1aXQralVfCrl3qhJbClXYwxH0GE4H5wDvAbHdfa2aTzWxk3Oxx4Ggz2wjcDEyK110LzAbWAX8EbnD3A+nWJBLSaadBt24wfXroSkQax7wAR/1KJBJeXl4eugyRWv34x/DTn8IHH0CXLvU2F8kJM1vp7on62unOZ5EsGD8+euTnL38ZuhKRhlMwiGRB165w0UUwZUrU3yBSSBQMIlly003R4z4ffzx0JSINo2AQyZLBg+HMM+GeezSwnhQWBYNIlpjBz34Gf/kL3Htv6GpEUqdgEMmik0+GcePg5z+HP+sOHSkQCgaRLHvwQejUCUaPhs2bQ1cjUj8Fg0iWHXlkdBf055/DKafA1Kmwdi189VXoyrKvoiL6WaWwKBhEcqB/f1iyBNq3h+9/HwYMCF1RbowZAzfcELoKaahmoQsQKRV9+8KqVbByJXz0ETQpgf+W9e8PTz4ZHR2Vws9bLPRHJZJDZpBIRM+HLgUDBkSn0DZtCl2JNISCQUSy5uApszffDFuHNIyCQUSypndvaNYM3ngjdCXSEAoGEcmali2hTx8dMRQaBYOIZNWAAdERQwGO8F+yFAwiklX9+0NlZXQllhQGBYOIZJU6oAuPgkFEsqpv3+gyXXVAFw4Fg4hk1eGHw/HHKxgKSVrBYGZtzewlM9sQv7epoU0/M3vdzNaa2WozuyRp2RNm9r6ZrYpf/dKpR0Ty04ABUF6uDuhCke4RwyRggbv3BBbE09XtBq50997ACOABMzsqafmP3L1f/FqVZj0ikocGDYKtW6NB9ST/pRsMo4Bp8edpwAXVG7j7u+6+If68FfgEKEtzuyJSQAYPjt5ffz1sHZKadIPhGHffBhC/t6+rsZkNBFoA7yXN/kl8iul+M2uZZj0ikof69oVWrWDZstCVSCrqHV3VzF4GOtSw6PaGbMjMOgIzgHHufnAk+tuA/0sUFlOAW4HJtaw/AZgA0LVr14ZsWkQCa9EiGjxQRwyFod5gcPeza1tmZh+bWUd33xb/4v+klnZHAM8Dd7j73/7PcPBoA9hrZlOB/1lHHVOIwoNEIqEuLJECM3hw9DS7vXujoTIkf6V7KmkuMC7+PA54tnoDM2sB/B6Y7u5PV1vWMX43ov6JNWnWIyJ5atAg2LdPN7oVgnSD4V7gHDPbAJwTT2NmCTN7LG5zMXA6cFUNl6U+aWZvA28D7YB70qxHRPLUoEHRu/oZ8p95AV5YnEgkvLy8PHQZItJA3btHfQ1z5oSupDSZ2Up3T9TXTnc+i0jOnHkmLF4cPepT8peCQURy5qyzYPt2WL06dCVSFwWDiOTMmWdG7wsXhq1D6qZgEJGc6dwZjjtOwZDvFAwiklNnnQWvvAJffhm6EqmNgkFEcurss2HXLt0Fnc8UDCKSU8OHR0NkPPu122ElXygYRCSnWreGYcOiYCjA26hKgoJBRHJu1Ch47z1Yty50JVITBYOI5NzIkdH7b38btg6pmYJBRHKuY8fonoZp03QXdD5SMIhIEN//PmzaBK++GroSqU7BICJBXHQRHHEEPPpo6EqkOgWDiARx6KEwfjzMmhV1REv+UDCISDC33ALNm8PkGh/oK6EoGEQkmI4d4aabYPp0ePnl0NXIQQoGEQnqrrvg+OPh4oujjuhSvOlt//7QFVSlYBCRoA45BObNgyOPhNNPh298I3RFuXXnndChQ34FYrPQBYiI9OgRPbxnxgzYti10NbnVvn308KJt2/InFNMKBjNrC8wCugMfABe7+84a2h0A3o4nN7v7yHh+D2Am0BZ4A7jC3felU5OIFKbWreH660NXkXu9e0fva9fmTzCkeyppErDA3XsCC+Lpmuxx937xa2TS/J8B98fr7wSuTrMeEZGCkhwM+SLdYBgFTIs/TwMuSHVFMzPgLGBOY9YXESkG7dtDu3bFFQzHuPs2gPi9fS3tWplZuZktM7ODv/yPBj5194P98RVAp9o2ZGYT4u8or6ysTLNsEZH80atXfgVDvX0MZvYy0KGGRbc3YDtd3X2rmR0LLDSzt4HPa2hXa7+8u08BpgAkEok86r8XEUlP797w5JPRlUlmoatJIRjc/ezalpnZx2bW0d23mVlH4JNavmNr/L7JzBYD/YHfAkeZWbP4qKEzsLURP4OISEHr3Rs+/xw++gg6dw5dTfqnkuYC4+LP44CvPazPzNqYWcv4cztgCLDO3R1YBIyua30RkWJ3sAM6Xx5clG4w3AucY2YbgHPiacwsYWaPxW1OAMrN7C2iILjX3Q/++LcCN5vZRqI+h8fTrEdEpODk25VJad3H4O7bgWE1zC8Hrok/LwVOrGX9TcDAdGoQESl0ZWXRK1+CQUNiiIjkgT594K23QlcRUTCIiOSBAQPg7bfhyy9DV6JgEBHJCwMGwN698F//FboSBYOISF4YMCB6f+ONsHWAgkFEJC/07AmHHaZgEBGRWNOm0K+fgkFERJIMGACrVsFXX4WtQ8EgIpIn+veHXbtgw4awdSgYRETyxMknR+/Ll4etQ8EgIpInevWCo46C114LW4eCQUQkTzRpAqeeCn/6U+A6wm5eRESSDRkSjbK6Y0e4GhQMIiJ5ZMiQ6H3p0nA1KBhERPLIwIHQvDm8+mq4GhQMIiJ55JBDYPBgePHFcDUoGERE8sx550U3um3bFmb7CgYRkTxz3nnR+x//GGb7CgYRkTzTty984xvwwgthtq9gEBHJM2YwahQ8/zx88UXut59WMJhZWzN7ycw2xO9tamhzppmtSnr91cwuiJc9YWbvJy3rl049IiLF4vLLYc8e+P3vc7/tdI8YJgEL3L0nsCCersLdF7l7P3fvB5wF7AaS+9t/dHC5u69Ksx4RkaIweDD06AFTp+Z+2+kGwyhgWvx5GnBBPe1HA/PcfXea2xURKWpmcN11sHgxrFiR222nGwzHuPs2gPi9fT3txwJPVZv3EzNbbWb3m1nL2lY0swlmVm5m5ZWVlelVLSJSAK69NhpU7447wD132603GMzsZTNbU8NrVEM2ZGYdgROB+UmzbwO+BZwMtAVurW19d5/i7gl3T5SVlTVk0yIiBal1a5g8ObrZ7f77c7fdeoPB3c929z41vJ4FPo5/4R/8xf9JHV91MfB7d/8y6bu3eWQvMBUYmN6PIyJSXG64IbpC6ZZb4PjjYf367G8z3VNJc4Fx8edxwLN1tL2UaqeRkkLFiPon1qRZj4hIUWnSBJ5+Gh58MHpew9FHZ3+b5mmcuDKzo4HZQFdgMzDG3XeYWQK41t2vidt1B14Durj7V0nrLwTKAANWxevsqm+7iUTCy8vLG123iEgpMrOV7p6or12zdDbi7tuBYTXMLweuSZr+AOhUQ7uz0tm+iIhknu58FhGRKhQMIiJShYJBRESqUDCIiEgVCgYREalCwSAiIlUoGEREpIq0bnALxcwqgQ8buXo74C8ZLKfYaP/UTvumdto3dcuX/dPN3esdbK4ggyEdZlaeyp1/pUr7p3baN7XTvqlboe0fnUoSEZEqFAwiIlJFKQbDlNAF5Dntn9pp39RO+6ZuBbV/Sq6PQURE6laKRwwiIlKHog0GMxthZuvNbKOZTapheUszmxUvXx4/M6IkpLBvbjazdfGzuBeYWbcQdYZS3/5JajfazDx+/khJSGXfmNnF8d+ftWb2f3JdY0gp/NvqamaLzOzN+N/X+SHqrJe7F90LaAq8BxwLtADeAnpVa3M98Ov481hgVui682jfnAkcGn++rlT2Tar7J27XGlgCLAMSoevOl30D9ATeBNrE0+1D151n+2cKcF38uRfwQei6a3oV6xHDQGCju29y933ATGBUtTajgGnx5znAsPgRo8Wu3n3j7ovcfXc8uQzonOMaQ0rl7w7A3cDPgb/msrjAUtk344GH3X0ngLvX9Rz4YpPK/nHgiPjzkcDWHNaXsmINhk7AlqTpCr7+BLm/tXH3/cBnQA6ephpcKvsm2dXAvKxWlF/q3T9m1p/oMbXP5bKwPJDK353jgOPM7DUzW2ZmI3JWXXip7J//BVxuZhXAC8A/56a0hknr0Z55rKb/+Ve//CqVNsUo5Z/bzC4HEsAZWa0ov9S5f8ysCXA/cFWuCsojqfzdaUZ0Omko0ZHmq2bWx90/zXJt+SCV/XMp8IS732dmg4EZ8f75Kvvlpa5YjxgqgC5J0535+iHb39qYWTOiw7odOakurFT2DWZ2NnA7MNLd9+aotnxQ3/5pDfQBFpvZB8AgYG6JdECn+u/qWXf/0t3fB9YTBUUpSGX/XA3MBnD314FWROMo5ZViDYYVQE8z62FmLYg6l+dWazMXGBd/Hg0s9LhHqMjVu2/iUyWPEoVCKZ0jhnr2j7t/5u7t3L27u3cn6oMZ6e7lYcrNqVT+XT1DdPECZtaO6NTSppxWGU4q+2czMAzAzE4gCobKnFaZgqIMhrjPYCIwH3gHmO3ua81sspmNjJs9DhxtZhuBm4FaL0ssJinum38HDgeeNrNVZlb9L3fRSnH/lKQU9818YLuZrQMWAT9y9+1hKs6tFPfPLcB4M3sLeAq4Kh//Q6o7n0VEpIqiPGIQEZHGUzCIiEgVCgYREalCwSAiIlUoGEREpAoFg4iIVKFgEBGRKhQMIiJSxf8DH32F+b4IbCIAAAAASUVORK5CYII=\n",
      "text/plain": [
       "<Figure size 432x288 with 1 Axes>"
      ]
     },
     "metadata": {
      "needs_background": "light"
     },
     "output_type": "display_data"
    }
   ],
   "source": [
    "function = 'ZDT3'\n",
    "N = 1000\n",
    "generateZDTPareto(function,N)\n",
    "plot_2dfunction(function)"
   ]
  },
  {
   "cell_type": "markdown",
   "metadata": {},
   "source": [
    "### ZDT4\n",
    "\n",
    "O problema ZDT4 possui $n=10$ variáveis definidas no domínio  $\\mathbf{x}_1 \\in [0;1]$ e $\\mathbf{x}_i \\in [-5;5], i=2,...,n$ e apresenta fronteira de Pareto contínua e convexa. O problema apresenta diversas soluções Pareto-ótimas locais, que podem dificultar a aproximação da fronteira de Pareto real. Suas funções estão definidas a seguir:\n",
    "\n",
    "$$ \n",
    "\\begin{cases}\n",
    "f_1(\\mathbf{x}) = \\mathbf{x}_1\\\\\n",
    "g(\\mathbf{x}) = 1 + 10(n-1) + \\sum \\limits_{i=2}^{n} [\\mathbf{x}_i^2 - 10 \\cdot \\cos (4 \\cdot \\pi \\cdot \\mathbf{x}_i)]\\\\\n",
    "h(f_1(\\mathbf{x}),g(\\mathbf{x})) = 1 - \\sqrt[]{\\frac{f_1(\\mathbf{x})}{g(\\mathbf{x})}}\n",
    "\\end{cases}\n",
    "$$\n",
    "\n",
    "A fronteira de Pareto do problema pode ser vista na figura abaixo."
   ]
  },
  {
   "cell_type": "code",
   "execution_count": 6,
   "metadata": {},
   "outputs": [
    {
     "data": {
      "image/png": "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\n",
      "text/plain": [
       "<Figure size 432x288 with 1 Axes>"
      ]
     },
     "metadata": {
      "needs_background": "light"
     },
     "output_type": "display_data"
    }
   ],
   "source": [
    "function = 'ZDT4'\n",
    "N = 1000\n",
    "generateZDTPareto(function,N)\n",
    "plot_2dfunction(function)"
   ]
  },
  {
   "cell_type": "markdown",
   "metadata": {},
   "source": [
    "### ZDT6\n",
    "\n",
    "O problema ZDT6 possui $n=10$ variáveis definidas no domínio $\\mathbf{x}_i \\in [0;1], i=1,...,n$ e apresenta fronteira de Pareto contínua, não-convexa e não uniformemente distribuída. Suas funções estão definidas a seguir:\n",
    "\n",
    "$$ \n",
    "\\begin{cases}\n",
    "f_1(\\mathbf{x}) = 1 - \\exp (-4\\mathbf{x}_1) \\cdot \\sin ^6 (6 \\cdot \\pi \\cdot \\mathbf{x}_1) \\\\\n",
    "g(\\mathbf{x}) = 1 + 9 \\cdot \\left(\\frac{\\sum \\limits_{i=2}^{n} \\mathbf{x}_i}{9}\\right)^{0.25} \\\\\n",
    "h(f_1(\\mathbf{x}),g(\\mathbf{x})) = 1 - \\left(\\frac{f_1(\\mathbf{x})}{g(\\mathbf{x})}\\right)^2\n",
    "\\end{cases}\n",
    "$$\n",
    "\n",
    "A fronteira de Pareto do problema pode ser vista na figura abaixo."
   ]
  },
  {
   "cell_type": "code",
   "execution_count": 7,
   "metadata": {},
   "outputs": [
    {
     "data": {
      "image/png": "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\n",
      "text/plain": [
       "<Figure size 432x288 with 1 Axes>"
      ]
     },
     "metadata": {
      "needs_background": "light"
     },
     "output_type": "display_data"
    }
   ],
   "source": [
    "function = 'ZDT6'\n",
    "N = 1000\n",
    "generateZDTPareto(function,N)\n",
    "plot_2dfunction(function)"
   ]
  },
  {
   "cell_type": "markdown",
   "metadata": {},
   "source": [
    "## Referências\n",
    "\n",
    "\n",
    "<div class=\"cite2c-biblio\"></div>"
   ]
  }
 ],
 "metadata": {
  "cite2c": {
   "citations": {
    "6853877/6JUXZA65": {
     "DOI": "10.1162/106365600568202",
     "URL": "https://www.mitpressjournals.org/doi/10.1162/106365600568202",
     "abstract": "In this paper, we provide a systematic comparison of various evolutionary approaches to multiobjective optimization using six carefully chosen test functions. Each test function involves a particular feature that is known to cause difficulty in the evolutionary optimization process, mainly in converging to the Pareto-optimal front (e.g., multimodality and deception). By investigating these different problem features separately, it is possible to predict the kind of problems to which a certain technique is or is not well suited. However, in contrast to what was suspected beforehand, the experimental results indicate a hierarchy of the algorithms under consideration. Furthermore, the emerging effects are evidence that the suggested test functions provide sufficient complexity to compare multiobjective optimizers. Finally, elitism is shown to be an important factor for improving evolutionary multiobjective search.",
     "accessed": {
      "day": 16,
      "month": 4,
      "year": 2019
     },
     "author": [
      {
       "family": "Zitzler",
       "given": "Eckart"
      },
      {
       "family": "Deb",
       "given": "Kalyanmoy"
      },
      {
       "family": "Thiele",
       "given": "Lothar"
      }
     ],
     "container-title": "Evolutionary Computation",
     "container-title-short": "Evolutionary Computation",
     "id": "6853877/6JUXZA65",
     "issue": "2",
     "issued": {
      "day": 1,
      "month": 6,
      "year": 2000
     },
     "journalAbbreviation": "Evolutionary Computation",
     "page": "173-195",
     "page-first": "173",
     "shortTitle": "Comparison of Multiobjective Evolutionary Algorithms",
     "title": "Comparison of Multiobjective Evolutionary Algorithms: Empirical Results",
     "title-short": "Comparison of Multiobjective Evolutionary Algorithms",
     "type": "article-journal",
     "volume": "8"
    }
   }
  },
  "kernelspec": {
   "display_name": "Python 2",
   "language": "python",
   "name": "python2"
  },
  "language_info": {
   "codemirror_mode": {
    "name": "ipython",
    "version": 2
   },
   "file_extension": ".py",
   "mimetype": "text/x-python",
   "name": "python",
   "nbconvert_exporter": "python",
   "pygments_lexer": "ipython2",
   "version": "2.7.15"
  }
 },
 "nbformat": 4,
 "nbformat_minor": 2
}
