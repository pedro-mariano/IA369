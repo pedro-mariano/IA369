{
 "cells": [
  {
   "cell_type": "code",
   "execution_count": 1,
   "metadata": {},
   "outputs": [],
   "source": [
    "NPop = 100 # Population size\n",
    "NEval = 5000 # Number of function evaluations\n",
    "Nvar = 30 # Chromosome size\n",
    "function = 'ZDT1' # Type of problem\n",
    "Nref = NPop\n",
    "nReps = 1 # Number of repetitions\n",
    "RTPlot = True # Activate interactive plots\n",
    "\n",
    "%matplotlib qt"
   ]
  },
  {
   "cell_type": "code",
   "execution_count": 2,
   "metadata": {},
   "outputs": [],
   "source": [
    "%run MOMCEDA/MOMCEDA2.py"
   ]
  },
  {
   "cell_type": "code",
   "execution_count": 3,
   "metadata": {},
   "outputs": [
    {
     "name": "stdout",
     "output_type": "stream",
     "text": [
      "Execution  1  - Hypervolume =  0.848236470719\n",
      "Elapsed time:  27.9119410515\n",
      "Convergence metric:  0.0153843539371\n",
      "Generation =  49 Mean Square Value = 0.00780710996766\n",
      "rho = [3 2 1 2 1 1 0 1 0 1 2 0 2 1 0 1 0 1 2 1 1 1 1 1 2 2 1 1 1 1 1 1 0 0 1 1 0\n",
      " 1 0 1 0 0 1 1 0 2 1 0 2 0 0 1 1 1 2 0 1 0 2 1 1 1 2 1 2 0 2 0 1 0 2 1 1 0\n",
      " 1 2 1 1 0 1 2 2 1 1 2 0 2 1 0 2 0 2 0 1 0 1 1 2 2 2]\n",
      "minObj= [ 0.          0.01016509]\n",
      "hypervolume= 0.848236470719\n"
     ]
    }
   ],
   "source": [
    "runMOMCEDA(NPop,NEval,Nvar,function,Nref,nReps,RTPlot)"
   ]
  },
  {
   "cell_type": "code",
   "execution_count": null,
   "metadata": {},
   "outputs": [],
   "source": []
  }
 ],
 "metadata": {
  "kernelspec": {
   "display_name": "Python 2",
   "language": "python",
   "name": "python2"
  },
  "language_info": {
   "codemirror_mode": {
    "name": "ipython",
    "version": 2
   },
   "file_extension": ".py",
   "mimetype": "text/x-python",
   "name": "python",
   "nbconvert_exporter": "python",
   "pygments_lexer": "ipython2",
   "version": "2.7.15"
  }
 },
 "nbformat": 4,
 "nbformat_minor": 2
}
