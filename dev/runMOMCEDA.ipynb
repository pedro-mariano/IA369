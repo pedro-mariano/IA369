{
 "cells": [
  {
   "cell_type": "code",
   "execution_count": 6,
   "metadata": {},
   "outputs": [
    {
     "data": {
      "image/png": "[encoded data removed]",
      "text/plain": [
       "<Figure size 432x288 with 1 Axes>"
      ]
     },
     "metadata": {
      "needs_background": "light"
     },
     "output_type": "display_data"
    },
    {
     "name": "stdout",
     "output_type": "stream",
     "text": [
      "ZDT2 - mean hypervolume:  0.538105221471 +/- 8.40540690133e-05\n"
     ]
    }
   ],
   "source": [
    "import numpy as np\n",
    "import cPickle as pickle\n",
    "import matplotlib.pyplot as plt\n",
    "\n",
    "%matplotlib inline\n",
    "\n",
    "function = 'ZDT2'\n",
    "\n",
    "try:\n",
    "    with open(''.join(['files/HV_',function,'_MOMCEDA','.pk1']), 'r') as filename:\n",
    "        hv = pickle.load(filename)\n",
    "        \n",
    "    meanHV = hv.mean(axis=0)\n",
    "    NGer = len(meanHV)\n",
    "    stdHV = hv.std(axis=0)\n",
    "    pos = np.append(np.arange(0,NGer,25),NGer-1)\n",
    "    plt.boxplot(hv[:,pos],positions=pos,widths=5)\n",
    "    plt.plot(np.arange(1,NGer+1),meanHV)\n",
    "    axes = plt.gca()\n",
    "    axes.set_xlim([-10,NGer+10])\n",
    "    plt.show()\n",
    "    print function, '- mean hypervolume: ', np.mean(hv[:,-1]),'+/-',np.std(hv[:,-1])\n",
    "    \n",
    "except IOError: # Caso o arquivo nao exista, realiza o treinamento\n",
    "    print 'Arquivo nao encontrado'"
   ]
  },
  {
   "cell_type": "code",
   "execution_count": 2,
   "metadata": {},
   "outputs": [
    {
     "name": "stdout",
     "output_type": "stream",
     "text": [
      "(199,)\n"
     ]
    }
   ],
   "source": [
    "print meanHV.shape"
   ]
  },
  {
   "cell_type": "code",
   "execution_count": null,
   "metadata": {},
   "outputs": [],
   "source": []
  }
 ],
 "metadata": {
  "kernelspec": {
   "display_name": "Python 2",
   "language": "python",
   "name": "python2"
  },
  "language_info": {
   "codemirror_mode": {
    "name": "ipython",
    "version": 2
   },
   "file_extension": ".py",
   "mimetype": "text/x-python",
   "name": "python",
   "nbconvert_exporter": "python",
   "pygments_lexer": "ipython2",
   "version": "2.7.15"
  }
 },
 "nbformat": 4,
 "nbformat_minor": 2
}
