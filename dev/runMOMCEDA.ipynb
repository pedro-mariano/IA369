{
 "cells": [
  {
   "cell_type": "code",
   "execution_count": 6,
   "metadata": {},
   "outputs": [
    {
     "data": {
      "image/png": "[encoded data removed]",
      "text/plain": [
       "<Figure size 432x288 with 1 Axes>"
      ]
     },
     "metadata": {
      "needs_background": "light"
     },
     "output_type": "display_data"
    },
    {
     "name": "stdout",
     "output_type": "stream",
     "text": [
      "ZDT2 - mean hypervolume:  0.538105221471 +/- 8.40540690133e-05\n"
     ]
    }
   ],
   "source": [
    "import numpy as np\n",
    "import cPickle as pickle\n",
    "import matplotlib.pyplot as plt\n",
    "\n",
    "%matplotlib inline\n",
    "\n",
    "function = 'ZDT2'\n",
    "\n",
    "try:\n",
    "    with open(''.join(['files/HV_',function,'_MOMCEDA','.pk1']), 'r') as filename:\n",
    "        hv = pickle.load(filename)\n",
    "        \n",
    "    meanHV = hv.mean(axis=0)\n",
    "    NGer = len(meanHV)\n",
    "    stdHV = hv.std(axis=0)\n",
    "    pos = np.append(np.arange(0,NGer,25),NGer-1)\n",
    "    plt.boxplot(hv[:,pos],positions=pos,widths=5)\n",
    "    plt.plot(np.arange(1,NGer+1),meanHV)\n",
    "    axes = plt.gca()\n",
    "    axes.set_xlim([-10,NGer+10])\n",
    "    plt.show()\n",
    "    print function, '- mean hypervolume: ', np.mean(hv[:,-1]),'+/-',np.std(hv[:,-1])\n",
    "    \n",
    "except IOError: # Caso o arquivo nao exista, realiza o treinamento\n",
    "    print 'Arquivo nao encontrado'"
   ]
  },
  {
   "cell_type": "code",
   "execution_count": 2,
   "metadata": {},
   "outputs": [
    {
     "name": "stdout",
     "output_type": "stream",
     "text": [
      "(199,)\n"
     ]
    }
   ],
   "source": [
    "print meanHV.shape"
   ]
  },
  {
   "cell_type": "code",
   "execution_count": 1,
   "metadata": {},
   "outputs": [
    {
     "name": "stdout",
     "output_type": "stream",
     "text": [
      "Starting execution 1 ...\n",
      "Hypervolume =  0.86860469341\n",
      "Convergence =  0.00170581851407\n",
      "Execution 1  completed in  6.518240 seconds\n",
      "\n",
      "Starting execution 2 ...\n",
      "Hypervolume =  0.867166150973\n",
      "Convergence =  0.00236983005345\n",
      "Execution 2  completed in  6.534255 seconds\n",
      "\n",
      "Starting execution 3 ...\n",
      "Hypervolume =  0.868072109005\n",
      "Convergence =  0.0020303570174\n",
      "Execution 3  completed in  6.500135 seconds\n",
      "\n",
      "Starting execution 4 ...\n"
     ]
    },
    {
     "ename": "KeyboardInterrupt",
     "evalue": "",
     "output_type": "error",
     "traceback": [
      "\u001b[0;31m---------------------------------------------------------------------------\u001b[0m",
      "\u001b[0;31mKeyboardInterrupt\u001b[0m                         Traceback (most recent call last)",
      "\u001b[0;32m<ipython-input-1-97428c89a617>\u001b[0m in \u001b[0;36m<module>\u001b[0;34m()\u001b[0m\n\u001b[1;32m      8\u001b[0m \u001b[0mrefPoint\u001b[0m \u001b[0;34m=\u001b[0m \u001b[0;34m[\u001b[0m\u001b[0;36m1.1\u001b[0m\u001b[0;34m,\u001b[0m \u001b[0;36m1.1\u001b[0m\u001b[0;34m]\u001b[0m\u001b[0;34m\u001b[0m\u001b[0m\n\u001b[1;32m      9\u001b[0m \u001b[0;34m\u001b[0m\u001b[0m\n\u001b[0;32m---> 10\u001b[0;31m \u001b[0mrunNSGA2\u001b[0m\u001b[0;34m(\u001b[0m\u001b[0mseed\u001b[0m\u001b[0;34m,\u001b[0m\u001b[0mfunction\u001b[0m\u001b[0;34m,\u001b[0m\u001b[0mnReps\u001b[0m\u001b[0;34m,\u001b[0m\u001b[0mNEval\u001b[0m\u001b[0;34m,\u001b[0m\u001b[0mNPop\u001b[0m\u001b[0;34m,\u001b[0m\u001b[0mrefPoint\u001b[0m\u001b[0;34m)\u001b[0m\u001b[0;34m\u001b[0m\u001b[0m\n\u001b[0m",
      "\u001b[0;32m/home/pedromariano/IA369/dev/MOMCEDA/nsga2.py\u001b[0m in \u001b[0;36mrunNSGA2\u001b[0;34m(seed, function, nReps, NEval, NPop, refPoint)\u001b[0m\n\u001b[1;32m    155\u001b[0m         \u001b[0mstart\u001b[0m \u001b[0;34m=\u001b[0m \u001b[0mtime\u001b[0m\u001b[0;34m.\u001b[0m\u001b[0mtime\u001b[0m\u001b[0;34m(\u001b[0m\u001b[0;34m)\u001b[0m\u001b[0;34m\u001b[0m\u001b[0m\n\u001b[1;32m    156\u001b[0m \u001b[0;34m\u001b[0m\u001b[0m\n\u001b[0;32m--> 157\u001b[0;31m         \u001b[0mpop\u001b[0m\u001b[0;34m,\u001b[0m \u001b[0mstats\u001b[0m\u001b[0;34m,\u001b[0m \u001b[0mhv\u001b[0m \u001b[0;34m=\u001b[0m \u001b[0mmain\u001b[0m\u001b[0;34m(\u001b[0m\u001b[0mfunction\u001b[0m\u001b[0;34m,\u001b[0m\u001b[0mNGEN\u001b[0m\u001b[0;34m,\u001b[0m\u001b[0mNPop\u001b[0m\u001b[0;34m,\u001b[0m\u001b[0mrefPoint\u001b[0m\u001b[0;34m)\u001b[0m\u001b[0;34m\u001b[0m\u001b[0m\n\u001b[0m\u001b[1;32m    158\u001b[0m         \u001b[0mhvValues\u001b[0m\u001b[0;34m.\u001b[0m\u001b[0mappend\u001b[0m\u001b[0;34m(\u001b[0m\u001b[0mhv\u001b[0m\u001b[0;34m)\u001b[0m\u001b[0;34m\u001b[0m\u001b[0m\n\u001b[1;32m    159\u001b[0m         \u001b[0mpop\u001b[0m\u001b[0;34m.\u001b[0m\u001b[0msort\u001b[0m\u001b[0;34m(\u001b[0m\u001b[0mkey\u001b[0m\u001b[0;34m=\u001b[0m\u001b[0;32mlambda\u001b[0m \u001b[0mx\u001b[0m\u001b[0;34m:\u001b[0m \u001b[0mx\u001b[0m\u001b[0;34m.\u001b[0m\u001b[0mfitness\u001b[0m\u001b[0;34m.\u001b[0m\u001b[0mvalues\u001b[0m\u001b[0;34m)\u001b[0m\u001b[0;34m\u001b[0m\u001b[0m\n",
      "\u001b[0;32m/home/pedromariano/IA369/dev/MOMCEDA/nsga2.py\u001b[0m in \u001b[0;36mmain\u001b[0;34m(function, NGEN, MU, refPoint)\u001b[0m\n\u001b[1;32m    122\u001b[0m \u001b[0;34m\u001b[0m\u001b[0m\n\u001b[1;32m    123\u001b[0m         \u001b[0;31m# Select the next generation population\u001b[0m\u001b[0;34m\u001b[0m\u001b[0;34m\u001b[0m\u001b[0m\n\u001b[0;32m--> 124\u001b[0;31m         \u001b[0mpop\u001b[0m \u001b[0;34m=\u001b[0m \u001b[0mtoolbox\u001b[0m\u001b[0;34m.\u001b[0m\u001b[0mselect\u001b[0m\u001b[0;34m(\u001b[0m\u001b[0mpop\u001b[0m \u001b[0;34m+\u001b[0m \u001b[0moffspring\u001b[0m\u001b[0;34m,\u001b[0m \u001b[0mMU\u001b[0m\u001b[0;34m)\u001b[0m\u001b[0;34m\u001b[0m\u001b[0m\n\u001b[0m\u001b[1;32m    125\u001b[0m         \u001b[0mrecord\u001b[0m \u001b[0;34m=\u001b[0m \u001b[0mstats\u001b[0m\u001b[0;34m.\u001b[0m\u001b[0mcompile\u001b[0m\u001b[0;34m(\u001b[0m\u001b[0mpop\u001b[0m\u001b[0;34m)\u001b[0m\u001b[0;34m\u001b[0m\u001b[0m\n\u001b[1;32m    126\u001b[0m         \u001b[0mlogbook\u001b[0m\u001b[0;34m.\u001b[0m\u001b[0mrecord\u001b[0m\u001b[0;34m(\u001b[0m\u001b[0mgen\u001b[0m\u001b[0;34m=\u001b[0m\u001b[0mgen\u001b[0m\u001b[0;34m,\u001b[0m \u001b[0mevals\u001b[0m\u001b[0;34m=\u001b[0m\u001b[0mlen\u001b[0m\u001b[0;34m(\u001b[0m\u001b[0minvalid_ind\u001b[0m\u001b[0;34m)\u001b[0m\u001b[0;34m,\u001b[0m \u001b[0;34m**\u001b[0m\u001b[0mrecord\u001b[0m\u001b[0;34m)\u001b[0m\u001b[0;34m\u001b[0m\u001b[0m\n",
      "\u001b[0;32m/home/pedromariano/anaconda2/lib/python2.7/site-packages/deap/tools/emo.pyc\u001b[0m in \u001b[0;36mselNSGA2\u001b[0;34m(individuals, k, nd)\u001b[0m\n\u001b[1;32m     31\u001b[0m     \"\"\"\n\u001b[1;32m     32\u001b[0m     \u001b[0;32mif\u001b[0m \u001b[0mnd\u001b[0m \u001b[0;34m==\u001b[0m \u001b[0;34m'standard'\u001b[0m\u001b[0;34m:\u001b[0m\u001b[0;34m\u001b[0m\u001b[0m\n\u001b[0;32m---> 33\u001b[0;31m         \u001b[0mpareto_fronts\u001b[0m \u001b[0;34m=\u001b[0m \u001b[0msortNondominated\u001b[0m\u001b[0;34m(\u001b[0m\u001b[0mindividuals\u001b[0m\u001b[0;34m,\u001b[0m \u001b[0mk\u001b[0m\u001b[0;34m)\u001b[0m\u001b[0;34m\u001b[0m\u001b[0m\n\u001b[0m\u001b[1;32m     34\u001b[0m     \u001b[0;32melif\u001b[0m \u001b[0mnd\u001b[0m \u001b[0;34m==\u001b[0m \u001b[0;34m'log'\u001b[0m\u001b[0;34m:\u001b[0m\u001b[0;34m\u001b[0m\u001b[0m\n\u001b[1;32m     35\u001b[0m         \u001b[0mpareto_fronts\u001b[0m \u001b[0;34m=\u001b[0m \u001b[0msortLogNondominated\u001b[0m\u001b[0;34m(\u001b[0m\u001b[0mindividuals\u001b[0m\u001b[0;34m,\u001b[0m \u001b[0mk\u001b[0m\u001b[0;34m)\u001b[0m\u001b[0;34m\u001b[0m\u001b[0m\n",
      "\u001b[0;32m/home/pedromariano/anaconda2/lib/python2.7/site-packages/deap/tools/emo.pyc\u001b[0m in \u001b[0;36msortNondominated\u001b[0;34m(individuals, k, first_front_only)\u001b[0m\n\u001b[1;32m     83\u001b[0m     \u001b[0;32mfor\u001b[0m \u001b[0mi\u001b[0m\u001b[0;34m,\u001b[0m \u001b[0mfit_i\u001b[0m \u001b[0;32min\u001b[0m \u001b[0menumerate\u001b[0m\u001b[0;34m(\u001b[0m\u001b[0mfits\u001b[0m\u001b[0;34m)\u001b[0m\u001b[0;34m:\u001b[0m\u001b[0;34m\u001b[0m\u001b[0m\n\u001b[1;32m     84\u001b[0m         \u001b[0;32mfor\u001b[0m \u001b[0mfit_j\u001b[0m \u001b[0;32min\u001b[0m \u001b[0mfits\u001b[0m\u001b[0;34m[\u001b[0m\u001b[0mi\u001b[0m\u001b[0;34m+\u001b[0m\u001b[0;36m1\u001b[0m\u001b[0;34m:\u001b[0m\u001b[0;34m]\u001b[0m\u001b[0;34m:\u001b[0m\u001b[0;34m\u001b[0m\u001b[0m\n\u001b[0;32m---> 85\u001b[0;31m             \u001b[0;32mif\u001b[0m \u001b[0mfit_i\u001b[0m\u001b[0;34m.\u001b[0m\u001b[0mdominates\u001b[0m\u001b[0;34m(\u001b[0m\u001b[0mfit_j\u001b[0m\u001b[0;34m)\u001b[0m\u001b[0;34m:\u001b[0m\u001b[0;34m\u001b[0m\u001b[0m\n\u001b[0m\u001b[1;32m     86\u001b[0m                 \u001b[0mdominating_fits\u001b[0m\u001b[0;34m[\u001b[0m\u001b[0mfit_j\u001b[0m\u001b[0;34m]\u001b[0m \u001b[0;34m+=\u001b[0m \u001b[0;36m1\u001b[0m\u001b[0;34m\u001b[0m\u001b[0m\n\u001b[1;32m     87\u001b[0m                 \u001b[0mdominated_fits\u001b[0m\u001b[0;34m[\u001b[0m\u001b[0mfit_i\u001b[0m\u001b[0;34m]\u001b[0m\u001b[0;34m.\u001b[0m\u001b[0mappend\u001b[0m\u001b[0;34m(\u001b[0m\u001b[0mfit_j\u001b[0m\u001b[0;34m)\u001b[0m\u001b[0;34m\u001b[0m\u001b[0m\n",
      "\u001b[0;32m/home/pedromariano/anaconda2/lib/python2.7/site-packages/deap/base.pyc\u001b[0m in \u001b[0;36mdominates\u001b[0;34m(self, other, obj)\u001b[0m\n\u001b[1;32m    202\u001b[0m                        \"can be directly accessed via ``individual.fitness.values``.\"))\n\u001b[1;32m    203\u001b[0m \u001b[0;34m\u001b[0m\u001b[0m\n\u001b[0;32m--> 204\u001b[0;31m     \u001b[0;32mdef\u001b[0m \u001b[0mdominates\u001b[0m\u001b[0;34m(\u001b[0m\u001b[0mself\u001b[0m\u001b[0;34m,\u001b[0m \u001b[0mother\u001b[0m\u001b[0;34m,\u001b[0m \u001b[0mobj\u001b[0m\u001b[0;34m=\u001b[0m\u001b[0mslice\u001b[0m\u001b[0;34m(\u001b[0m\u001b[0mNone\u001b[0m\u001b[0;34m)\u001b[0m\u001b[0;34m)\u001b[0m\u001b[0;34m:\u001b[0m\u001b[0;34m\u001b[0m\u001b[0m\n\u001b[0m\u001b[1;32m    205\u001b[0m         \"\"\"Return true if each objective of *self* is not strictly worse than\n\u001b[1;32m    206\u001b[0m         \u001b[0mthe\u001b[0m \u001b[0mcorresponding\u001b[0m \u001b[0mobjective\u001b[0m \u001b[0mof\u001b[0m \u001b[0;34m*\u001b[0m\u001b[0mother\u001b[0m\u001b[0;34m*\u001b[0m \u001b[0;32mand\u001b[0m \u001b[0mat\u001b[0m \u001b[0mleast\u001b[0m \u001b[0mone\u001b[0m \u001b[0mobjective\u001b[0m \u001b[0;32mis\u001b[0m\u001b[0;34m\u001b[0m\u001b[0m\n",
      "\u001b[0;31mKeyboardInterrupt\u001b[0m: "
     ]
    }
   ],
   "source": [
    "%run MOMCEDA/nsga2.py\n",
    "\n",
    "seed = 10\n",
    "function = 'ZDT1'\n",
    "nReps = 10\n",
    "NEval = 20000\n",
    "NPop = 100\n",
    "refPoint = [1.1, 1.1]\n",
    "\n",
    "runNSGA2(seed,function,nReps,NEval,NPop,refPoint)"
   ]
  },
  {
   "cell_type": "code",
   "execution_count": 7,
   "metadata": {},
   "outputs": [],
   "source": [
    "%matplotlib qt\n",
    "\n",
    "%run ../dev/MOMCEDA/HVbar.py\n",
    "\n",
    "function = 'ZDT1'\n",
    "nReps = 10\n",
    "NEval = 20000\n",
    "\n",
    "showHVBar(function,nReps,NEval)"
   ]
  },
  {
   "cell_type": "code",
   "execution_count": 1,
   "metadata": {},
   "outputs": [
    {
     "data": {
      "text/html": [
       "        <script type=\"text/javascript\">\n",
       "        window.PlotlyConfig = {MathJaxConfig: 'local'};\n",
       "        if (window.MathJax) {MathJax.Hub.Config({SVG: {font: \"STIX-Web\"}});}\n",
       "        if (typeof require !== 'undefined') {\n",
       "        require.undef(\"plotly\");\n",
       "        requirejs.config({\n",
       "            paths: {\n",
       "                'plotly': ['https://cdn.plot.ly/plotly-latest.min']\n",
       "            }\n",
       "        });\n",
       "        require(['plotly'], function(Plotly) {\n",
       "            window._Plotly = Plotly;\n",
       "        });\n",
       "        }\n",
       "        </script>\n",
       "        "
      ]
     },
     "metadata": {},
     "output_type": "display_data"
    },
    {
     "data": {
      "application/vnd.plotly.v1+json": {
       "config": {
        "linkText": "Export to plot.ly",
        "plotlyServerURL": "https://plot.ly",
        "showLink": false
       },
       "data": [
        {
         "type": "scatter",
         "uid": "503c9ff7-c044-483d-9012-5984f85cde6c",
         "x": [
          1,
          2,
          3,
          4
         ],
         "y": [
          4,
          3,
          2,
          1
         ]
        }
       ],
       "layout": {
        "title": {
         "text": "hello world"
        }
       }
      },
      "text/html": [
       "<div>\n",
       "        \n",
       "        \n",
       "            <div id=\"123c78ad-4835-4ec1-9aa5-e4679e1cdaa5\" class=\"plotly-graph-div\" style=\"height:525px; width:100%;\"></div>\n",
       "            <script type=\"text/javascript\">\n",
       "                require([\"plotly\"], function(Plotly) {\n",
       "                    window.PLOTLYENV=window.PLOTLYENV || {};\n",
       "                    window.PLOTLYENV.BASE_URL='https://plot.ly';\n",
       "                    \n",
       "                if (document.getElementById(\"123c78ad-4835-4ec1-9aa5-e4679e1cdaa5\")) {\n",
       "                    Plotly.newPlot(\n",
       "                        '123c78ad-4835-4ec1-9aa5-e4679e1cdaa5',\n",
       "                        [{\"type\": \"scatter\", \"uid\": \"503c9ff7-c044-483d-9012-5984f85cde6c\", \"x\": [1, 2, 3, 4], \"y\": [4, 3, 2, 1]}],\n",
       "                        {\"title\": {\"text\": \"hello world\"}},\n",
       "                        {\"responsive\": true, \"plotlyServerURL\": \"https://plot.ly\", \"linkText\": \"Export to plot.ly\", \"showLink\": false}\n",
       "                    ).then(function(){\n",
       "                            \n",
       "var gd = document.getElementById('123c78ad-4835-4ec1-9aa5-e4679e1cdaa5');\n",
       "var x = new MutationObserver(function (mutations, observer) {{\n",
       "        var display = window.getComputedStyle(gd).display;\n",
       "        if (!display || display === 'none') {{\n",
       "            console.log([gd, 'removed!']);\n",
       "            Plotly.purge(gd);\n",
       "            observer.disconnect();\n",
       "        }}\n",
       "}});\n",
       "\n",
       "// Listen for the removal of the full notebook cells\n",
       "var notebookContainer = gd.closest('#notebook-container');\n",
       "if (notebookContainer) {{\n",
       "    x.observe(notebookContainer, {childList: true});\n",
       "}}\n",
       "\n",
       "// Listen for the clearing of the current output cell\n",
       "var outputEl = gd.closest('.output');\n",
       "if (outputEl) {{\n",
       "    x.observe(outputEl, {childList: true});\n",
       "}}\n",
       "\n",
       "                        })\n",
       "                };\n",
       "                });\n",
       "            </script>\n",
       "        </div>"
      ]
     },
     "metadata": {},
     "output_type": "display_data"
    }
   ],
   "source": [
    "import plotly\n",
    "import plotly.graph_objs as go\n",
    "\n",
    "plotly.offline.init_notebook_mode(connected=True)\n",
    "\n",
    "plotly.offline.iplot({\n",
    "    \"data\": [go.Scatter(x=[1, 2, 3, 4], y=[4, 3, 2, 1])],\n",
    "    \"layout\": go.Layout(title=\"hello world\")\n",
    "})\n",
    "\n"
   ]
  },
  {
   "cell_type": "code",
   "execution_count": 7,
   "metadata": {},
   "outputs": [
    {
     "data": {
      "application/vnd.plotly.v1+json": {
       "config": {
        "linkText": "Export to plot.ly",
        "plotlyServerURL": "https://plot.ly",
        "showLink": false
       },
       "data": [
        {
         "cells": {
          "values": [
           [
            "ZDT1",
            "ZDT2",
            "ZDT3",
            "ZDT4"
           ],
           [
            100,
            90,
            80,
            90
           ],
           [
            95,
            85,
            75,
            95
           ]
          ]
         },
         "header": {
          "values": [
           "Problem",
           "Average",
           "Standard deviation"
          ]
         },
         "type": "table",
         "uid": "74c877fd-85fd-4cec-aac3-3d7c1063b7e5"
        }
       ],
       "layout": {}
      },
      "text/html": [
       "<div>\n",
       "        \n",
       "        \n",
       "            <div id=\"b7b6ec73-1939-4a51-8cf3-01f63b0a44c0\" class=\"plotly-graph-div\" style=\"height:525px; width:100%;\"></div>\n",
       "            <script type=\"text/javascript\">\n",
       "                require([\"plotly\"], function(Plotly) {\n",
       "                    window.PLOTLYENV=window.PLOTLYENV || {};\n",
       "                    window.PLOTLYENV.BASE_URL='https://plot.ly';\n",
       "                    \n",
       "                if (document.getElementById(\"b7b6ec73-1939-4a51-8cf3-01f63b0a44c0\")) {\n",
       "                    Plotly.newPlot(\n",
       "                        'b7b6ec73-1939-4a51-8cf3-01f63b0a44c0',\n",
       "                        [{\"cells\": {\"values\": [[\"ZDT1\", \"ZDT2\", \"ZDT3\", \"ZDT4\"], [100, 90, 80, 90], [95, 85, 75, 95]]}, \"header\": {\"values\": [\"Problem\", \"Average\", \"Standard deviation\"]}, \"type\": \"table\", \"uid\": \"74c877fd-85fd-4cec-aac3-3d7c1063b7e5\"}],\n",
       "                        {},\n",
       "                        {\"responsive\": true, \"plotlyServerURL\": \"https://plot.ly\", \"linkText\": \"Export to plot.ly\", \"showLink\": false}\n",
       "                    ).then(function(){\n",
       "                            \n",
       "var gd = document.getElementById('b7b6ec73-1939-4a51-8cf3-01f63b0a44c0');\n",
       "var x = new MutationObserver(function (mutations, observer) {{\n",
       "        var display = window.getComputedStyle(gd).display;\n",
       "        if (!display || display === 'none') {{\n",
       "            console.log([gd, 'removed!']);\n",
       "            Plotly.purge(gd);\n",
       "            observer.disconnect();\n",
       "        }}\n",
       "}});\n",
       "\n",
       "// Listen for the removal of the full notebook cells\n",
       "var notebookContainer = gd.closest('#notebook-container');\n",
       "if (notebookContainer) {{\n",
       "    x.observe(notebookContainer, {childList: true});\n",
       "}}\n",
       "\n",
       "// Listen for the clearing of the current output cell\n",
       "var outputEl = gd.closest('.output');\n",
       "if (outputEl) {{\n",
       "    x.observe(outputEl, {childList: true});\n",
       "}}\n",
       "\n",
       "                        })\n",
       "                };\n",
       "                });\n",
       "            </script>\n",
       "        </div>"
      ]
     },
     "metadata": {},
     "output_type": "display_data"
    }
   ],
   "source": [
    "import plotly.plotly as py\n",
    "import plotly.graph_objs as go\n",
    "x = [100, 90, 80, 90]\n",
    "y = [95, 85, 75, 95]\n",
    "trace = go.Table(\n",
    "    header=dict(values=['Problem', 'Average','Standard deviation']),\n",
    "    cells=dict(values=[['ZDT1','ZDT2','ZDT3','ZDT4','ZDT6'],x,y]))\n",
    "\n",
    "data = [trace] \n",
    "plotly.offline.iplot(data, filename = 'basic_table')"
   ]
  },
  {
   "cell_type": "code",
   "execution_count": 6,
   "metadata": {},
   "outputs": [
    {
     "name": "stdout",
     "output_type": "stream",
     "text": [
      "Final values for ZDT 1  problem:\n",
      "Metric         Algorithm     Average    Std. deviation\n",
      "Hypervolume    MOMCEDA      0.871316    7.84E-05\n",
      "               NSGA-II      0.868347    4.91E-04\n",
      "Convergence    MOMCEDA      0.000490    4.63E-05\n",
      "               NSGA-II      0.002068    2.15E-04\n",
      "\n",
      "Final values for ZDT 2  problem:\n",
      "Metric         Algorithm     Average    Std. deviation\n",
      "Hypervolume    MOMCEDA      0.538105    8.41E-05\n",
      "               NSGA-II      0.534382    6.82E-04\n",
      "Convergence    MOMCEDA      0.000472    4.38E-05\n",
      "               NSGA-II      0.002178    4.05E-04\n",
      "\n",
      "Final values for ZDT 3  problem:\n",
      "Metric         Algorithm     Average    Std. deviation\n",
      "Hypervolume    MOMCEDA      1.328007    2.96E-04\n",
      "               NSGA-II      1.326033    5.26E-04\n",
      "Convergence    MOMCEDA      0.001181    9.86E-05\n",
      "               NSGA-II      0.001678    2.04E-04\n",
      "\n",
      "Final values for ZDT 4  problem:\n",
      "Metric         Algorithm     Average    Std. deviation\n",
      "Hypervolume    MOMCEDA      0.853892    2.85E-02\n",
      "               NSGA-II      0.859106    5.13E-03\n",
      "Convergence    MOMCEDA      0.016243    3.17E-02\n",
      "               NSGA-II      0.006694    2.36E-03\n",
      "\n",
      "Final values for ZDT 6  problem:\n",
      "Metric         Algorithm     Average    Std. deviation\n",
      "Hypervolume    MOMCEDA      0.504190    1.17E-04\n",
      "               NSGA-II      0.483644    2.32E-03\n",
      "Convergence    MOMCEDA      0.008420    1.77E-02\n",
      "               NSGA-II      0.015131    1.76E-03\n",
      "\n"
     ]
    }
   ],
   "source": [
    "import cPickle as pickle\n",
    "import json\n",
    "import numpy as np\n",
    "\n",
    "problems = [1,2,3,4,6]\n",
    "for i in problems:\n",
    "    print 'Final values for ZDT',i,' problem:'\n",
    "    print 'Metric         Algorithm     Average    Std. deviation'\n",
    "    \n",
    "    with open(''.join(['../dev/files/HV_ZDT',str(i),'_MOMCEDA.pk1']),'r') as filename:\n",
    "        hv1 = pickle.load(filename)\n",
    "    meanHV1 = hv1[:,-1].mean(axis=0)\n",
    "    stdHV1 = hv1[:,-1].std(axis=0)\n",
    "    \n",
    "    with open(''.join(['../dev/files/conv_ZDT',str(i),'_MOMCEDA.json']),'r') as filename:\n",
    "        conv1 = np.asarray(json.load(filename))\n",
    "    meanconv1 = conv1.mean(axis=0)\n",
    "    stdconv1 = conv1.std(axis=0)\n",
    "    \n",
    "    with open(''.join(['../dev/files/HV_ZDT',str(i),'_NSGA2.json']),'r') as filename:\n",
    "        hv2 = np.asarray(json.load(filename))\n",
    "    meanHV2 = hv2[:,-1].mean(axis=0)\n",
    "    stdHV2 = hv2[:,-1].std(axis=0)\n",
    "    \n",
    "    with open(''.join(['../dev/files/conv_ZDT',str(i),'_NSGA2.json']),'r') as filename:\n",
    "        conv2 = np.asarray(json.load(filename))\n",
    "    meanconv2 = conv2.mean(axis=0)\n",
    "    stdconv2 = conv2.std(axis=0)\n",
    "    \n",
    "    print 'Hypervolume    MOMCEDA      %f    %.2E' %(meanHV1,stdHV1)\n",
    "    print '               NSGA-II      %f    %.2E' %(meanHV2,stdHV2)\n",
    "    print 'Convergence    MOMCEDA      %f    %.2E' %(meanconv1,stdconv1)\n",
    "    print '               NSGA-II      %f    %.2E\\n' %(meanconv2,stdconv2)"
   ]
  },
  {
   "cell_type": "code",
   "execution_count": 4,
   "metadata": {},
   "outputs": [
    {
     "name": "stdout",
     "output_type": "stream",
     "text": [
      "[0.000418844466315151, 0.00044795855533343677, 0.0005270048169883336, 0.00046188995947863987, 0.0005189769175250389, 0.0005568201164955465, 0.0005442576393783982, 0.0005186502267629926, 0.0004337698765580536, 0.0004749625279806026]\n"
     ]
    }
   ],
   "source": [
    "print conv1"
   ]
  },
  {
   "cell_type": "code",
   "execution_count": 9,
   "metadata": {},
   "outputs": [],
   "source": [
    "plt.close('all')"
   ]
  },
  {
   "cell_type": "code",
   "execution_count": null,
   "metadata": {},
   "outputs": [],
   "source": []
  }
 ],
 "metadata": {
  "kernelspec": {
   "display_name": "Python 2",
   "language": "python",
   "name": "python2"
  },
  "language_info": {
   "codemirror_mode": {
    "name": "ipython",
    "version": 2
   },
   "file_extension": ".py",
   "mimetype": "text/x-python",
   "name": "python",
   "nbconvert_exporter": "python",
   "pygments_lexer": "ipython2",
   "version": "2.7.15"
  }
 },
 "nbformat": 4,
 "nbformat_minor": 2
}
